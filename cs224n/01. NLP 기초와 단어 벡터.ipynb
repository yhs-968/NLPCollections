{
 "cells": [
  {
   "cell_type": "markdown",
   "metadata": {
    "toc": true
   },
   "source": [
    "<h1>Table of Contents<span class=\"tocSkip\"></span></h1>\n",
    "<div class=\"toc\"><ul class=\"toc-item\"><li><span><a href=\"#NLP-기초\" data-toc-modified-id=\"NLP-기초-1\"><span class=\"toc-item-num\">1&nbsp;&nbsp;</span>NLP 기초</a></span></li><li><span><a href=\"#단어-벡터\" data-toc-modified-id=\"단어-벡터-2\"><span class=\"toc-item-num\">2&nbsp;&nbsp;</span>단어 벡터</a></span><ul class=\"toc-item\"><li><span><a href=\"#One-hot-encoding\" data-toc-modified-id=\"One-hot-encoding-2.1\"><span class=\"toc-item-num\">2.1&nbsp;&nbsp;</span>One-hot encoding</a></span></li><li><span><a href=\"#Embedding-기반-단어벡터\" data-toc-modified-id=\"Embedding-기반-단어벡터-2.2\"><span class=\"toc-item-num\">2.2&nbsp;&nbsp;</span>Embedding 기반 단어벡터</a></span><ul class=\"toc-item\"><li><span><a href=\"#CBOW-기반-단어벡터\" data-toc-modified-id=\"CBOW-기반-단어벡터-2.2.1\"><span class=\"toc-item-num\">2.2.1&nbsp;&nbsp;</span>CBOW 기반 단어벡터</a></span></li><li><span><a href=\"#Skip-gram-기반-단어벡터\" data-toc-modified-id=\"Skip-gram-기반-단어벡터-2.2.2\"><span class=\"toc-item-num\">2.2.2&nbsp;&nbsp;</span>Skip-gram 기반 단어벡터</a></span></li><li><span><a href=\"#Glove-단어벡터\" data-toc-modified-id=\"Glove-단어벡터-2.2.3\"><span class=\"toc-item-num\">2.2.3&nbsp;&nbsp;</span>Glove 단어벡터</a></span></li></ul></li></ul></li></ul></div>"
   ]
  },
  {
   "cell_type": "markdown",
   "metadata": {},
   "source": [
    "# NLP 기초"
   ]
  },
  {
   "cell_type": "markdown",
   "metadata": {},
   "source": [
    "## "
   ]
  },
  {
   "cell_type": "markdown",
   "metadata": {},
   "source": [
    "# 단어 벡터"
   ]
  },
  {
   "cell_type": "markdown",
   "metadata": {},
   "source": [
    "## One-hot encoding"
   ]
  },
  {
   "cell_type": "markdown",
   "metadata": {},
   "source": [
    "## Embedding 기반 단어벡터"
   ]
  },
  {
   "cell_type": "markdown",
   "metadata": {},
   "source": [
    "### CBOW 기반 단어벡터"
   ]
  },
  {
   "cell_type": "markdown",
   "metadata": {},
   "source": [
    "### Skip-gram 기반 단어벡터"
   ]
  },
  {
   "cell_type": "markdown",
   "metadata": {},
   "source": [
    "### Glove 단어벡터"
   ]
  }
 ],
 "metadata": {
  "kernelspec": {
   "display_name": "Python 3",
   "language": "python",
   "name": "python3"
  },
  "language_info": {
   "codemirror_mode": {
    "name": "ipython",
    "version": 3
   },
   "file_extension": ".py",
   "mimetype": "text/x-python",
   "name": "python",
   "nbconvert_exporter": "python",
   "pygments_lexer": "ipython3",
   "version": "3.7.1"
  },
  "toc": {
   "base_numbering": 1,
   "nav_menu": {},
   "number_sections": true,
   "sideBar": true,
   "skip_h1_title": false,
   "title_cell": "Table of Contents",
   "title_sidebar": "Contents",
   "toc_cell": true,
   "toc_position": {},
   "toc_section_display": true,
   "toc_window_display": false
  },
  "varInspector": {
   "cols": {
    "lenName": 16,
    "lenType": 16,
    "lenVar": 40
   },
   "kernels_config": {
    "python": {
     "delete_cmd_postfix": "",
     "delete_cmd_prefix": "del ",
     "library": "var_list.py",
     "varRefreshCmd": "print(var_dic_list())"
    },
    "r": {
     "delete_cmd_postfix": ") ",
     "delete_cmd_prefix": "rm(",
     "library": "var_list.r",
     "varRefreshCmd": "cat(var_dic_list()) "
    }
   },
   "types_to_exclude": [
    "module",
    "function",
    "builtin_function_or_method",
    "instance",
    "_Feature"
   ],
   "window_display": false
  }
 },
 "nbformat": 4,
 "nbformat_minor": 2
}
