{
 "cells": [
  {
   "cell_type": "markdown",
   "metadata": {
    "toc": true
   },
   "source": [
    "<h1>Table of Contents<span class=\"tocSkip\"></span></h1>\n",
    "<div class=\"toc\"><ul class=\"toc-item\"><li><span><a href=\"#Recommended-reviews-from-Season-1\" data-toc-modified-id=\"Recommended-reviews-from-Season-1-1\"><span class=\"toc-item-num\">1&nbsp;&nbsp;</span>Recommended reviews from Season 1</a></span></li><li><span><a href=\"#Introduction\" data-toc-modified-id=\"Introduction-2\"><span class=\"toc-item-num\">2&nbsp;&nbsp;</span>Introduction</a></span><ul class=\"toc-item\"><li><span><a href=\"#Core-NLP-tasks\" data-toc-modified-id=\"Core-NLP-tasks-2.1\"><span class=\"toc-item-num\">2.1&nbsp;&nbsp;</span>Core NLP tasks</a></span><ul class=\"toc-item\"><li><span><a href=\"#Audio-Processing\" data-toc-modified-id=\"Audio-Processing-2.1.1\"><span class=\"toc-item-num\">2.1.1&nbsp;&nbsp;</span>Audio Processing</a></span></li><li><span><a href=\"#Machine-Translation\" data-toc-modified-id=\"Machine-Translation-2.1.2\"><span class=\"toc-item-num\">2.1.2&nbsp;&nbsp;</span>Machine Translation</a></span></li><li><span><a href=\"#Search/Recommendation\" data-toc-modified-id=\"Search/Recommendation-2.1.3\"><span class=\"toc-item-num\">2.1.3&nbsp;&nbsp;</span>Search/Recommendation</a></span></li></ul></li><li><span><a href=\"#Study-plans\" data-toc-modified-id=\"Study-plans-2.2\"><span class=\"toc-item-num\">2.2&nbsp;&nbsp;</span>Study plans</a></span><ul class=\"toc-item\"><li><span><a href=\"#Part-1.-Basic-word/sentence-modeling\" data-toc-modified-id=\"Part-1.-Basic-word/sentence-modeling-2.2.1\"><span class=\"toc-item-num\">2.2.1&nbsp;&nbsp;</span>Part 1. Basic word/sentence modeling</a></span></li><li><span><a href=\"#Part-2.-Advanced-sequence-modeling-w/-Attention\" data-toc-modified-id=\"Part-2.-Advanced-sequence-modeling-w/-Attention-2.2.2\"><span class=\"toc-item-num\">2.2.2&nbsp;&nbsp;</span>Part 2. Advanced sequence modeling w/ Attention</a></span></li><li><span><a href=\"#Part-3.-Advanced-topics\" data-toc-modified-id=\"Part-3.-Advanced-topics-2.2.3\"><span class=\"toc-item-num\">2.2.3&nbsp;&nbsp;</span>Part 3. Advanced topics</a></span></li></ul></li></ul></li></ul></div>"
   ]
  },
  {
   "cell_type": "markdown",
   "metadata": {},
   "source": [
    "# Recommended reviews from Season 1"
   ]
  },
  {
   "cell_type": "markdown",
   "metadata": {},
   "source": [
    "01. Overview\n",
    "02. **Classification, Logistic Regression**, GLM\n",
    "03. **Generative Models**\n",
    "04. SVM\n",
    "05. **Sequential Optimization**, Convex Optimization\n",
    "06. Learning Theory\n",
    "07. **Evaluation Metric**\n",
    "08. PCA and ICA\n",
    "09. Gaussian Mixture and EM algorithm\n",
    "10. Factor Analysis\n",
    "11. Stochastic Process and HMM\n",
    "12. GP\n",
    "13. GAN\n",
    "14. VAE"
   ]
  },
  {
   "cell_type": "markdown",
   "metadata": {},
   "source": [
    "# Introduction"
   ]
  },
  {
   "cell_type": "markdown",
   "metadata": {},
   "source": [
    "## Core NLP tasks"
   ]
  },
  {
   "cell_type": "markdown",
   "metadata": {},
   "source": [
    "### Audio Processing\n",
    "- Lanugage Modeling\n",
    "- Sentiment Analysis\n",
    "- Audio Segmentation\n",
    "\n",
    "### Machine Translation\n",
    "- Language Modeling\n",
    "- Syntatic Parsing\n",
    "- Named Entity Recognition\n",
    "- Seq2seq\n",
    "\n",
    "### Search/Recommendation\n",
    "- Word/document representation\n",
    "- Information Retrieval\n",
    "- Keyword Extraction\n",
    "- Sentiment Analysis"
   ]
  },
  {
   "cell_type": "markdown",
   "metadata": {},
   "source": [
    "## Study plans\n",
    "### Part 1. Basic word/sentence modeling\n",
    "---\n",
    "- NLP basics\n",
    "- Deep Learning basics\n",
    "    - FCNs    \n",
    "    - CNNs\n",
    "    - RNNs\n",
    "    - SGD and optimization methods\n",
    "- Word embeddings\n",
    "- Sentence modeling\n",
    "    - Dependency parsing\n",
    "    - Language models w/ RNN and Recursive Nets\n",
    "    - Language models w/ CNNs\n",
    "- Transfer learning with pretrained word embeddings\n",
    "\n",
    "### Part 2. Advanced sequence modeling w/ Attention\n",
    "---\n",
    "- Machine Translation with seq2seq and attention\n",
    "    - Encoder-decoder architecture\n",
    "    - seq2seq with attention\n",
    "- Advanced attention mechanisms\n",
    "    - Convseq2seq\n",
    "    - Self-attention\n",
    "        - Transformer\n",
    "        - BERT\n",
    "\n",
    "### Part 3. Advanced topics\n",
    "---\n",
    "- Coreference Resolution\n",
    "- Constituency Parsing with Tree Recursive Nets\n",
    "- Summarization\n",
    "- Image captioning\n",
    "- Q&A systems with Memory Networks\n",
    "- Semi-supervised learning for NLP\n",
    "- Reinforcement Learning for NLP\n",
    "- Dialogue Systems"
   ]
  }
 ],
 "metadata": {
  "kernelspec": {
   "display_name": "Python 3",
   "language": "python",
   "name": "python3"
  },
  "language_info": {
   "codemirror_mode": {
    "name": "ipython",
    "version": 3
   },
   "file_extension": ".py",
   "mimetype": "text/x-python",
   "name": "python",
   "nbconvert_exporter": "python",
   "pygments_lexer": "ipython3",
   "version": "3.7.1"
  },
  "toc": {
   "base_numbering": 1,
   "nav_menu": {},
   "number_sections": true,
   "sideBar": true,
   "skip_h1_title": false,
   "title_cell": "Table of Contents",
   "title_sidebar": "Contents",
   "toc_cell": true,
   "toc_position": {},
   "toc_section_display": true,
   "toc_window_display": false
  },
  "varInspector": {
   "cols": {
    "lenName": 16,
    "lenType": 16,
    "lenVar": 40
   },
   "kernels_config": {
    "python": {
     "delete_cmd_postfix": "",
     "delete_cmd_prefix": "del ",
     "library": "var_list.py",
     "varRefreshCmd": "print(var_dic_list())"
    },
    "r": {
     "delete_cmd_postfix": ") ",
     "delete_cmd_prefix": "rm(",
     "library": "var_list.r",
     "varRefreshCmd": "cat(var_dic_list()) "
    }
   },
   "types_to_exclude": [
    "module",
    "function",
    "builtin_function_or_method",
    "instance",
    "_Feature"
   ],
   "window_display": false
  }
 },
 "nbformat": 4,
 "nbformat_minor": 2
}
