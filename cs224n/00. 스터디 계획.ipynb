{
 "cells": [
  {
   "cell_type": "markdown",
   "metadata": {
    "toc": true
   },
   "source": [
    "<h1>Table of Contents<span class=\"tocSkip\"></span></h1>\n",
    "<div class=\"toc\"><ul class=\"toc-item\"><li><span><a href=\"#Introduction\" data-toc-modified-id=\"Introduction-1\"><span class=\"toc-item-num\">1&nbsp;&nbsp;</span>Introduction</a></span><ul class=\"toc-item\"><li><span><a href=\"#Core-NLP-tasks\" data-toc-modified-id=\"Core-NLP-tasks-1.1\"><span class=\"toc-item-num\">1.1&nbsp;&nbsp;</span>Core NLP tasks</a></span><ul class=\"toc-item\"><li><span><a href=\"#Audio-Processing\" data-toc-modified-id=\"Audio-Processing-1.1.1\"><span class=\"toc-item-num\">1.1.1&nbsp;&nbsp;</span>Audio Processing</a></span></li><li><span><a href=\"#Machine-Translation\" data-toc-modified-id=\"Machine-Translation-1.1.2\"><span class=\"toc-item-num\">1.1.2&nbsp;&nbsp;</span>Machine Translation</a></span></li><li><span><a href=\"#Search/Recommendation\" data-toc-modified-id=\"Search/Recommendation-1.1.3\"><span class=\"toc-item-num\">1.1.3&nbsp;&nbsp;</span>Search/Recommendation</a></span></li></ul></li><li><span><a href=\"#스터디-계획\" data-toc-modified-id=\"스터디-계획-1.2\"><span class=\"toc-item-num\">1.2&nbsp;&nbsp;</span>스터디 계획</a></span><ul class=\"toc-item\"><li><ul class=\"toc-item\"><li><span><a href=\"#Part-1.-단어-모델링과-딥러닝-기초-(4강)\" data-toc-modified-id=\"Part-1.-단어-모델링과-딥러닝-기초-(4강)-1.2.0.1\"><span class=\"toc-item-num\">1.2.0.1&nbsp;&nbsp;</span>Part 1. 단어 모델링과 딥러닝 기초 (4강)</a></span></li><li><span><a href=\"#Part-2.-문장-모델링-(5강)\" data-toc-modified-id=\"Part-2.-문장-모델링-(5강)-1.2.0.2\"><span class=\"toc-item-num\">1.2.0.2&nbsp;&nbsp;</span>Part 2. 문장 모델링 (5강)</a></span></li><li><span><a href=\"#Part-3.-Advanced-Techniques-(5강)\" data-toc-modified-id=\"Part-3.-Advanced-Techniques-(5강)-1.2.0.3\"><span class=\"toc-item-num\">1.2.0.3&nbsp;&nbsp;</span>Part 3. Advanced Techniques (5강)</a></span></li><li><span><a href=\"#Part-4.-Quick-Summary-(2강)\" data-toc-modified-id=\"Part-4.-Quick-Summary-(2강)-1.2.0.4\"><span class=\"toc-item-num\">1.2.0.4&nbsp;&nbsp;</span>Part 4. Quick Summary (2강)</a></span></li><li><span><a href=\"#(Optional)-Advanced-Topics-(5강)\" data-toc-modified-id=\"(Optional)-Advanced-Topics-(5강)-1.2.0.5\"><span class=\"toc-item-num\">1.2.0.5&nbsp;&nbsp;</span>(Optional) Advanced Topics (5강)</a></span></li></ul></li></ul></li></ul></li></ul></div>"
   ]
  },
  {
   "cell_type": "markdown",
   "metadata": {},
   "source": [
    "# Introduction"
   ]
  },
  {
   "cell_type": "markdown",
   "metadata": {},
   "source": [
    "## Core NLP tasks"
   ]
  },
  {
   "cell_type": "markdown",
   "metadata": {},
   "source": [
    "### Audio Processing\n",
    "- Lanugage Modeling\n",
    "- Sentiment Analysis\n",
    "- Audio Segmentation\n",
    "\n",
    "### Machine Translation\n",
    "- Language Modeling\n",
    "- Syntatic Parsing\n",
    "- Named Entity Recognition\n",
    "- Seq2seq\n",
    "\n",
    "### Search/Recommendation\n",
    "- Word/document representation\n",
    "- Information Retrieval\n",
    "- Keyword Extraction\n",
    "- Sentiment Analysis"
   ]
  },
  {
   "cell_type": "markdown",
   "metadata": {},
   "source": [
    "## 스터디 계획"
   ]
  },
  {
   "attachments": {},
   "cell_type": "markdown",
   "metadata": {},
   "source": [
    "- 교재: X\n",
    "- 주 강의 자료\n",
    "    - [스탠포드 대학의 NLP 강의(2019)](https://web.stanford.edu/class/cs224n/), [2017년 버전 Youtube VOD](https://www.youtube.com/playlist?list=PL3FW7Lu3i5Jsnh1rnUwq_TcylNr7EkRe6)\n",
    "- 참고 자료\n",
    "    - [조경현 교수님의 한글(!) 강의](https://www.edwith.org/deepnlp/lecture/29196/)\n",
    "    - [앤드류 응 교수님의 NLP 강의](https://www.coursera.org/learn/nlp-sequence-models/home)\n",
    "\n",
    "#### Part 1. 단어 모델링과 딥러닝 기초 (4강)\n",
    "---\n",
    "- 단어 벡터 (3강): 문장의 기본 단위인 단어를 어떻게 표현할 것인가?\n",
    "- 딥러닝 기초 (1강): Neural Networks, Backpropagation, Optimization\n",
    "\n",
    "#### Part 2. 문장 모델링 (5강)\n",
    "---\n",
    "- Dependency parsing (1강): 문장 내에서 단어들 간의 의미적/문법적 관계를 알아냄. e.g. 살찐 고양이: '살찐' 이 '고양이'를 수식한다.\n",
    "- Language Modeling with RNNs (2강)\n",
    "- NLP with CNNs (1강)\n",
    "- 기계번역, Seq2seq, Attention (1강)\n",
    "\n",
    "#### Part 3. Advanced Techniques (5강)\n",
    "---\n",
    "- Subword, character 기반 단어 벡터 (1강)\n",
    "- Question Answering with Memory Networks (1강)\n",
    "- Advanced Attention: Self-Attention and Transformer (1강)\n",
    "- 맥락 모델링 (1강)\n",
    "- Multitask learning (1강)\n",
    "\n",
    "#### Part 4. Quick Summary (2강)\n",
    "- 단어 모델링: word-based, subword-based, character-based, pretrained models (1강)\n",
    "- 문장 모델링 + $\\alpha$: dependency parsing, language models, attention (1강)\n",
    "\n",
    "#### (Optional) Advanced Topics (5강)\n",
    "- Reference in Language & Coreference resolution (1강): 이 물건이 그 물건이다 => '이'가 가리키는 단어는 무엇인가?\n",
    "- Constituency parsing & Tree Recursive NNs (1강): 단어를 조합한 phrase들끼리의 관계를 보는 것. Dependency parsing의 상위 호환\n",
    "- 자연어 생성 (1강)\n",
    "- Safety, Bias, and Fairness(1강)"
   ]
  }
 ],
 "metadata": {
  "kernelspec": {
   "display_name": "Python 3",
   "language": "python",
   "name": "python3"
  },
  "language_info": {
   "codemirror_mode": {
    "name": "ipython",
    "version": 3
   },
   "file_extension": ".py",
   "mimetype": "text/x-python",
   "name": "python",
   "nbconvert_exporter": "python",
   "pygments_lexer": "ipython3",
   "version": "3.7.1"
  },
  "toc": {
   "base_numbering": 1,
   "nav_menu": {},
   "number_sections": true,
   "sideBar": true,
   "skip_h1_title": false,
   "title_cell": "Table of Contents",
   "title_sidebar": "Contents",
   "toc_cell": true,
   "toc_position": {},
   "toc_section_display": true,
   "toc_window_display": false
  },
  "varInspector": {
   "cols": {
    "lenName": 16,
    "lenType": 16,
    "lenVar": 40
   },
   "kernels_config": {
    "python": {
     "delete_cmd_postfix": "",
     "delete_cmd_prefix": "del ",
     "library": "var_list.py",
     "varRefreshCmd": "print(var_dic_list())"
    },
    "r": {
     "delete_cmd_postfix": ") ",
     "delete_cmd_prefix": "rm(",
     "library": "var_list.r",
     "varRefreshCmd": "cat(var_dic_list()) "
    }
   },
   "types_to_exclude": [
    "module",
    "function",
    "builtin_function_or_method",
    "instance",
    "_Feature"
   ],
   "window_display": false
  }
 },
 "nbformat": 4,
 "nbformat_minor": 2
}
