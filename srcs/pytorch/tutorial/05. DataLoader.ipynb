{
 "cells": [
  {
   "cell_type": "markdown",
   "metadata": {},
   "source": [
    "http://pytorch.org/tutorials/beginner/data_loading_tutorial.html#dataset-class"
   ]
  },
  {
   "cell_type": "code",
   "execution_count": 4,
   "metadata": {
    "collapsed": true
   },
   "outputs": [],
   "source": [
    "from torch.utils.data import Dataset, DataLoader\n",
    "import os\n",
    "from os.path import join\n",
    "from nltk import sent_tokenize, wordpunct_tokenize\n",
    "from collections import Counter\n",
    "from itertools import chain\n",
    "\n",
    "class DocumentDataset(Dataset):\n",
    "    '''\n",
    "    Documents dataset.\n",
    "    '''\n",
    "    \n",
    "    def __init__(self, filename, pretrained = None, to_lowercase = True):\n",
    "        '''\n",
    "        Args:\n",
    "            filename (string)\n",
    "        '''\n",
    "        with open(filename) as f:\n",
    "            raw = f.read()\n",
    "        if to_lowercase:\n",
    "            raw = raw.lower()\n",
    "        \n",
    "        sentences = [wordpunct_tokenize(sent)\n",
    "                     for sent in sent_tokenize(raw)]\n",
    "        \n",
    "        wordcounts = Counter(chain(*[sent for sent in sentences]))\n",
    "        \n",
    "        self.sentences = sentences\n",
    "        self.wordcounts = wordcounts\n",
    "        \n",
    "    def __getitem__(self, idx):\n",
    "        return self.sentences[idx]\n",
    "    \n",
    "    def __len__(self):\n",
    "        return len(self.sentences)"
   ]
  },
  {
   "cell_type": "code",
   "execution_count": 11,
   "metadata": {},
   "outputs": [
    {
     "data": {
      "text/plain": [
       "['donald',\n",
       " 'john',\n",
       " 'trump',\n",
       " '(',\n",
       " 'born',\n",
       " 'june',\n",
       " '14',\n",
       " ',',\n",
       " '1946',\n",
       " ')',\n",
       " 'is',\n",
       " 'the',\n",
       " '45th',\n",
       " 'and',\n",
       " 'current',\n",
       " 'president',\n",
       " 'of',\n",
       " 'the',\n",
       " 'united',\n",
       " 'states',\n",
       " ',',\n",
       " 'in',\n",
       " 'office',\n",
       " 'since',\n",
       " 'january',\n",
       " '20',\n",
       " ',',\n",
       " '2017',\n",
       " '.',\n",
       " 'before',\n",
       " 'entering',\n",
       " 'politics',\n",
       " ',',\n",
       " 'he',\n",
       " 'was',\n",
       " 'a',\n",
       " 'businessman',\n",
       " 'and',\n",
       " 'television',\n",
       " 'personality',\n",
       " '.']"
      ]
     },
     "execution_count": 11,
     "metadata": {},
     "output_type": "execute_result"
    }
   ],
   "source": [
    "dataset[0]"
   ]
  },
  {
   "cell_type": "code",
   "execution_count": 15,
   "metadata": {},
   "outputs": [
    {
     "name": "stdout",
     "output_type": "stream",
     "text": [
      "0 [('donald', 'trump'), ('john', 'was'), ('trump', 'born'), ('(', 'in'), ('born', 'the'), ('june', 'new'), ('14', 'york'), (',', 'city'), ('1946', 'borough'), (')', 'of'), ('is', 'queens'), ('the', '.')]\n",
      "1 [('he', 'a'), ('earned', 'third'), ('an', '-'), ('economics', 'generation'), ('degree', 'businessman'), ('from', ','), ('the', 'trump'), ('wharton', 'followed'), ('school', 'in'), ('of', 'the'), ('the', 'footsteps'), ('university', 'of'), ('of', 'his'), ('pennsylvania', 'grandmother'), ('.', 'elizabeth')]\n",
      "2 [('he', 'trump'), ('served', \"'\"), ('as', 's'), ('chairman', 'business'), ('and', 'career'), ('president', 'primarily'), ('of', 'focused'), ('the', 'on'), ('trump', 'building'), ('organization', 'or'), ('from', 'renovating'), ('1971', 'office'), ('until', 'towers'), ('his', ','), ('inauguration', 'hotels'), ('as', ','), ('president', 'casinos'), ('in', ','), ('january', 'and'), ('2017', 'golf'), (',', 'courses'), ('when', '.')]\n",
      "3 [('aside', 'he'), ('from', 'has'), ('that', 'written'), (',', 'or'), ('trump', 'co'), ('also', '-'), ('started', 'authored'), ('multiple', 'several'), ('side', 'books'), ('ventures', ','), ('and', 'for'), ('branded', 'example'), ('various', 'the'), ('products', 'art'), ('with', 'of'), ('his', 'the'), ('name', 'deal'), ('.', ',')]\n",
      "4 [('as', 'trump'), ('of', 'had'), ('2017', 'long'), (',', 'expressed'), ('he', 'interest'), ('was', 'in'), ('the', 'politics'), ('544th', '.')]\n",
      "5 [('he', 'commentators'), ('entered', 'described'), ('the', 'his'), ('2016', 'political'), ('presidential', 'positions'), ('race', 'as'), ('as', 'populist'), ('a', ','), ('republican', 'protectionist'), ('and', ','), ('defeated', 'and'), ('sixteen', 'nationalist'), ('opponents', '.')]\n",
      "6 [('his', 'trump'), ('campaign', 'won'), ('received', 'the'), ('extensive', 'general'), ('free', 'election'), ('media', 'on'), ('coverage', 'november'), (';', '8'), ('many', ','), ('of', '2016'), ('his', ','), ('public', 'in'), ('statements', 'a'), ('were', 'surprise'), ('controversial', 'victory'), ('or', 'against'), ('false', 'democratic'), ('.', 'opponent')]\n",
      "7 [('he', 'his'), ('became', 'election'), ('the', 'and'), ('oldest', 'policies'), ('and', 'have'), ('wealthiest', 'sparked'), ('person', 'numerous'), ('ever', 'protests'), ('to', '.')]\n",
      "8 [('in', 'he'), ('domestic', 'appointed'), ('policy', 'neil'), (',', 'gorsuch'), ('trump', 'to'), ('has', 'the'), ('sought', 'supreme'), (',', 'court'), ('so', '.')]\n",
      "9 [('he', 'in'), ('ordered', 'foreign'), ('a', 'policy'), ('travel', ','), ('ban', 'he'), ('on', 'withdrew'), ('citizens', 'the'), ('from', 'united'), ('several', 'states'), ('muslim', 'from'), ('-', 'the'), ('majority', 'trans'), ('countries', '-'), (',', 'pacific'), ('citing', 'partnership'), ('security', 'and'), ('concerns', 'the'), (';', 'paris'), ('the', 'climate'), ('ban', 'agreement'), ('was', ','), ('partially', 'undid'), ('implemented', 'parts'), ('after', 'of'), ('legal', 'the'), ('challenges', 'cuban'), ('.', 'thaw')]\n",
      "10 [('after',), ('trump',), ('dismissed',), ('fbi',), ('director',), ('james',), ('comey',), (',',), ('the',), ('justice',), ('department',), ('appointed',), ('a',), ('special',), ('counsel',), ('to',), ('continue',), ('the',), ('investigation',), ('into',), ('potential',), ('links',), ('between',), ('russia',), ('and',), ('trump',), ('campaign',), ('associates',), (',',), ('and',), ('any',), ('related',), ('matters',), ('.',)]\n"
     ]
    }
   ],
   "source": [
    "dataset = DocumentDataset('./data/Trump.txt')\n",
    "train_loader = DataLoader(dataset = dataset,\n",
    "                         batch_size = 2,\n",
    "                         shuffle = False)\n",
    "\n",
    "for batch_idx, input in enumerate(train_loader):\n",
    "    print(batch_idx, input)\n",
    "#     input = Variable(input)\n",
    "    "
   ]
  }
 ],
 "metadata": {
  "kernelspec": {
   "display_name": "Python 3",
   "language": "python",
   "name": "python3"
  },
  "language_info": {
   "codemirror_mode": {
    "name": "ipython",
    "version": 3
   },
   "file_extension": ".py",
   "mimetype": "text/x-python",
   "name": "python",
   "nbconvert_exporter": "python",
   "pygments_lexer": "ipython3",
   "version": "3.5.4"
  }
 },
 "nbformat": 4,
 "nbformat_minor": 2
}
