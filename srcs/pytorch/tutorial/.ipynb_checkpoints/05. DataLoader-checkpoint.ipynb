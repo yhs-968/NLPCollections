{
 "cells": [
  {
   "cell_type": "markdown",
   "metadata": {},
   "source": [
    "http://pytorch.org/tutorials/beginner/data_loading_tutorial.html#dataset-class"
   ]
  },
  {
   "cell_type": "code",
   "execution_count": 4,
   "metadata": {
    "collapsed": true
   },
   "outputs": [],
   "source": [
    "from torch.utils.data import Dataset, DataLoader\n",
    "import os\n",
    "from os.path import join\n",
    "from nltk import sent_tokenize, wordpunct_tokenize\n",
    "from collections import Counter\n",
    "from itertools import chain\n",
    "\n",
    "class DocumentDataset(Dataset):\n",
    "    '''\n",
    "    Documents dataset.\n",
    "    '''\n",
    "    \n",
    "    def __init__(self, filename, pretrained = None, to_lowercase = True):\n",
    "        '''\n",
    "        Args:\n",
    "            filename (string)\n",
    "        '''\n",
    "        with open(filename) as f:\n",
    "            raw = f.read()\n",
    "        if to_lowercase:\n",
    "            raw = raw.lower()\n",
    "        \n",
    "        sentences = [wordpunct_tokenize(sent)\n",
    "                     for sent in sent_tokenize(raw)]\n",
    "        \n",
    "        wordcounts = Counter(chain(*[sent for sent in sentences]))\n",
    "        \n",
    "        self.sentences = sentences\n",
    "        self.wordcounts = wordcounts\n",
    "        \n",
    "    def __getitem__(self, idx):\n",
    "        return self.sentences[idx]\n",
    "    \n",
    "    def __len__(self):\n",
    "        return len(self.sentences)"
   ]
  },
  {
   "cell_type": "code",
   "execution_count": 11,
   "metadata": {},
   "outputs": [
    {
     "data": {
      "text/plain": [
       "['donald',\n",
       " 'john',\n",
       " 'trump',\n",
       " '(',\n",
       " 'born',\n",
       " 'june',\n",
       " '14',\n",
       " ',',\n",
       " '1946',\n",
       " ')',\n",
       " 'is',\n",
       " 'the',\n",
       " '45th',\n",
       " 'and',\n",
       " 'current',\n",
       " 'president',\n",
       " 'of',\n",
       " 'the',\n",
       " 'united',\n",
       " 'states',\n",
       " ',',\n",
       " 'in',\n",
       " 'office',\n",
       " 'since',\n",
       " 'january',\n",
       " '20',\n",
       " ',',\n",
       " '2017',\n",
       " '.',\n",
       " 'before',\n",
       " 'entering',\n",
       " 'politics',\n",
       " ',',\n",
       " 'he',\n",
       " 'was',\n",
       " 'a',\n",
       " 'businessman',\n",
       " 'and',\n",
       " 'television',\n",
       " 'personality',\n",
       " '.']"
      ]
     },
     "execution_count": 11,
     "metadata": {},
     "output_type": "execute_result"
    }
   ],
   "source": [
    "dataset[0]"
   ]
  },
  {
   "cell_type": "code",
   "execution_count": 13,
   "metadata": {},
   "outputs": [
    {
     "name": "stdout",
     "output_type": "stream",
     "text": [
      "0 [('as', 'his', 'he'), ('of', 'campaign', 'became'), ('2017', 'received', 'the'), (',', 'extensive', 'oldest'), ('he', 'free', 'and'), ('was', 'media', 'wealthiest'), ('the', 'coverage', 'person'), ('544th', ';', 'ever'), ('richest', 'many', 'to'), ('person', 'of', 'assume'), ('in', 'his', 'the'), ('the', 'public', 'presidency'), ('world', 'statements', ','), (',', 'were', 'the'), ('with', 'controversial', 'first'), ('an', 'or', 'without'), ('estimated', 'false', 'prior'), ('net', '.', 'military')]\n",
      "1 [('after', 'trump', 'trump'), ('trump', 'won', 'was'), ('dismissed', 'the', 'born'), ('fbi', 'general', 'in'), ('director', 'election', 'the'), ('james', 'on', 'new'), ('comey', 'november', 'york'), (',', '8', 'city'), ('the', ',', 'borough'), ('justice', '2016', 'of'), ('department', ',', 'queens'), ('appointed', 'in', '.')]\n",
      "2 [('in', 'commentators', 'a'), ('foreign', 'described', 'third'), ('policy', 'his', '-'), (',', 'political', 'generation'), ('he', 'positions', 'businessman'), ('withdrew', 'as', ','), ('the', 'populist', 'trump'), ('united', ',', 'followed'), ('states', 'protectionist', 'in'), ('from', ',', 'the'), ('the', 'and', 'footsteps'), ('trans', 'nationalist', 'of'), ('-', '.', 'his')]\n",
      "3 [('donald', 'his', 'he'), ('john', 'election', 'served'), ('trump', 'and', 'as'), ('(', 'policies', 'chairman'), ('born', 'have', 'and'), ('june', 'sparked', 'president'), ('14', 'numerous', 'of'), (',', 'protests', 'the'), ('1946', '.', 'trump')]\n",
      "4 [('he', 'he', 'in'), ('entered', 'ordered', 'domestic'), ('the', 'a', 'policy'), ('2016', 'travel', ','), ('presidential', 'ban', 'trump'), ('race', 'on', 'has'), ('as', 'citizens', 'sought'), ('a', 'from', ','), ('republican', 'several', 'so'), ('and', 'muslim', 'far'), ('defeated', '-', 'without'), ('sixteen', 'majority', 'success'), ('opponents', 'countries', ','), ('in', ',', 'to'), ('the', 'citing', 'repeal'), ('primaries', 'security', 'and'), ('.', 'concerns', 'replace')]\n",
      "5 [('trump', 'aside', 'he'), (\"'\", 'from', 'has'), ('s', 'that', 'written'), ('business', ',', 'or'), ('career', 'trump', 'co'), ('primarily', 'also', '-'), ('focused', 'started', 'authored'), ('on', 'multiple', 'several'), ('building', 'side', 'books'), ('or', 'ventures', ','), ('renovating', 'and', 'for'), ('office', 'branded', 'example'), ('towers', 'various', 'the'), (',', 'products', 'art'), ('hotels', 'with', 'of'), (',', 'his', 'the'), ('casinos', 'name', 'deal'), (',', '.', ',')]\n",
      "6 [('he', 'trump', 'he'), ('appointed', 'had', 'earned'), ('neil', 'long', 'an'), ('gorsuch', 'expressed', 'economics'), ('to', 'interest', 'degree'), ('the', 'in', 'from'), ('supreme', 'politics', 'the'), ('court', '.', 'wharton')]\n"
     ]
    }
   ],
   "source": [
    "dataset = DocumentDataset('./data/Trump.txt')\n",
    "train_loader = DataLoader(dataset = dataset,\n",
    "                         batch_size = 3,\n",
    "                         shuffle = True)\n",
    "\n",
    "for batch_idx, input in enumerate(train_loader):\n",
    "    print(batch_idx, input)\n",
    "#     input = Variable(input)\n",
    "    "
   ]
  }
 ],
 "metadata": {
  "kernelspec": {
   "display_name": "Python 3",
   "language": "python",
   "name": "python3"
  },
  "language_info": {
   "codemirror_mode": {
    "name": "ipython",
    "version": 3
   },
   "file_extension": ".py",
   "mimetype": "text/x-python",
   "name": "python",
   "nbconvert_exporter": "python",
   "pygments_lexer": "ipython3",
   "version": "3.5.4"
  }
 },
 "nbformat": 4,
 "nbformat_minor": 2
}
