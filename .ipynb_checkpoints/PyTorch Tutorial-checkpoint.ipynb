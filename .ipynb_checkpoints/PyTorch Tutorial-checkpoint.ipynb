{
 "cells": [
  {
   "cell_type": "markdown",
   "metadata": {},
   "source": [
    "# Contents\n",
    "- What is PyTorch?\n",
    "- Autograd: automatic differentiation\n",
    "- Neural Networks\n",
    "- Training a Classifier"
   ]
  },
  {
   "cell_type": "markdown",
   "metadata": {},
   "source": [
    "# What is PyTorch?"
   ]
  },
  {
   "cell_type": "code",
   "execution_count": 1,
   "metadata": {},
   "outputs": [],
   "source": [
    "import torch"
   ]
  },
  {
   "cell_type": "markdown",
   "metadata": {},
   "source": [
    "## Tensors"
   ]
  },
  {
   "cell_type": "code",
   "execution_count": 2,
   "metadata": {},
   "outputs": [
    {
     "name": "stdout",
     "output_type": "stream",
     "text": [
      "\n",
      " 7.9257e+07  4.5671e-41  7.9257e+07\n",
      " 4.5671e-41  0.0000e+00  0.0000e+00\n",
      " 0.0000e+00  0.0000e+00  6.7262e-44\n",
      " 0.0000e+00  6.7262e-44  0.0000e+00\n",
      " 7.3025e-38  0.0000e+00  0.0000e+00\n",
      "[torch.FloatTensor of size 5x3]\n",
      "\n",
      "\n",
      " 0.9999  0.1199  0.2683\n",
      " 0.5427  0.0112  0.5486\n",
      " 0.0875  0.4018  0.9883\n",
      " 0.4871  0.7808  0.0976\n",
      " 0.3650  0.1187  0.6949\n",
      "[torch.FloatTensor of size 5x3]\n",
      "\n",
      "torch.Size([5, 3])\n"
     ]
    }
   ],
   "source": [
    "# Create a 5x3 matrix without initialization\n",
    "x = torch.Tensor(5,3)\n",
    "print(x)\n",
    "\n",
    "# Create a 5x3 matrix with random initialization\n",
    "x = torch.rand(5,3)\n",
    "print(x)\n",
    "\n",
    "# size of the matrix\n",
    "print(x.size())"
   ]
  },
  {
   "cell_type": "markdown",
   "metadata": {},
   "source": [
    "## Basic Operations"
   ]
  },
  {
   "cell_type": "code",
   "execution_count": 3,
   "metadata": {},
   "outputs": [
    {
     "name": "stdout",
     "output_type": "stream",
     "text": [
      "\n",
      " 1.1689  0.1833  0.9191\n",
      " 0.5443  0.8066  0.6029\n",
      " 1.0311  0.7977  1.9687\n",
      " 0.9627  0.9608  0.8462\n",
      " 0.4115  1.0569  0.8937\n",
      "[torch.FloatTensor of size 5x3]\n",
      "\n",
      "\n",
      " 1.1689  0.1833  0.9191\n",
      " 0.5443  0.8066  0.6029\n",
      " 1.0311  0.7977  1.9687\n",
      " 0.9627  0.9608  0.8462\n",
      " 0.4115  1.0569  0.8937\n",
      "[torch.FloatTensor of size 5x3]\n",
      "\n",
      "\n",
      " 1.1689  0.1833  0.9191\n",
      " 0.5443  0.8066  0.6029\n",
      " 1.0311  0.7977  1.9687\n",
      " 0.9627  0.9608  0.8462\n",
      " 0.4115  1.0569  0.8937\n",
      "[torch.FloatTensor of size 5x3]\n",
      "\n"
     ]
    }
   ],
   "source": [
    "y = torch.rand(5,3)\n",
    "\n",
    "# Addition\n",
    "print(x + y)\n",
    "print(torch.add(x, y))\n",
    "\n",
    "# specify the output variable\n",
    "result = torch.Tensor(5,3)\n",
    "torch.add(x, y, out=result) \n",
    "print(result)"
   ]
  },
  {
   "cell_type": "code",
   "execution_count": 4,
   "metadata": {},
   "outputs": [
    {
     "name": "stdout",
     "output_type": "stream",
     "text": [
      "\n",
      " 1.1689  0.1833  0.9191\n",
      " 0.5443  0.8066  0.6029\n",
      " 1.0311  0.7977  1.9687\n",
      " 0.9627  0.9608  0.8462\n",
      " 0.4115  1.0569  0.8937\n",
      "[torch.FloatTensor of size 5x3]\n",
      "\n"
     ]
    }
   ],
   "source": [
    "# in-place addition\n",
    "y.add_(x)\n",
    "print(y)"
   ]
  },
  {
   "cell_type": "code",
   "execution_count": 5,
   "metadata": {},
   "outputs": [
    {
     "name": "stdout",
     "output_type": "stream",
     "text": [
      "\n",
      " 0.9999  0.1199  0.2683\n",
      " 0.5427  0.0112  0.5486\n",
      " 0.0875  0.4018  0.9883\n",
      " 0.4871  0.7808  0.0976\n",
      " 0.3650  0.1187  0.6949\n",
      "[torch.FloatTensor of size 5x3]\n",
      "\n",
      "\n",
      " 0.1199\n",
      " 0.0112\n",
      " 0.4018\n",
      " 0.7808\n",
      " 0.1187\n",
      "[torch.FloatTensor of size 5]\n",
      "\n"
     ]
    }
   ],
   "source": [
    "# numpy style indexing\n",
    "print(x)\n",
    "print(x[:,1])"
   ]
  },
  {
   "cell_type": "markdown",
   "metadata": {},
   "source": [
    "## Numpy bridge"
   ]
  },
  {
   "cell_type": "code",
   "execution_count": 6,
   "metadata": {},
   "outputs": [
    {
     "name": "stdout",
     "output_type": "stream",
     "text": [
      "\n",
      " 1\n",
      " 1\n",
      " 1\n",
      " 1\n",
      " 1\n",
      "[torch.FloatTensor of size 5]\n",
      "\n",
      "[ 1.  1.  1.  1.  1.]\n"
     ]
    }
   ],
   "source": [
    "# Tensor to Numpy array\n",
    "a = torch.ones(5)\n",
    "print(a)\n",
    "print(a.numpy())"
   ]
  },
  {
   "cell_type": "markdown",
   "metadata": {},
   "source": [
    "When creating a Tensor from a Numpy array, the tensor changes automatically with respect to the numpy array that it was created from."
   ]
  },
  {
   "cell_type": "code",
   "execution_count": 7,
   "metadata": {},
   "outputs": [
    {
     "name": "stdout",
     "output_type": "stream",
     "text": [
      "[ 2.  2.  2.  2.  2.]\n",
      "\n",
      " 2\n",
      " 2\n",
      " 2\n",
      " 2\n",
      " 2\n",
      "[torch.DoubleTensor of size 5]\n",
      "\n"
     ]
    }
   ],
   "source": [
    "# Numpy array to Tensor\n",
    "import numpy as np\n",
    "a = np.ones(5)\n",
    "b = torch.from_numpy(a)\n",
    "np.add(a, 1, out=a)\n",
    "print(a)\n",
    "print(b)"
   ]
  },
  {
   "cell_type": "markdown",
   "metadata": {},
   "source": [
    "## Sending tensors for GPU operations"
   ]
  },
  {
   "cell_type": "code",
   "execution_count": 8,
   "metadata": {},
   "outputs": [
    {
     "name": "stdout",
     "output_type": "stream",
     "text": [
      "\n",
      " 2.1688  0.3032  1.1874\n",
      " 1.0870  0.8178  1.1515\n",
      " 1.1186  1.1995  2.9570\n",
      " 1.4498  1.7416  0.9439\n",
      " 0.7765  1.1757  1.5885\n",
      "[torch.cuda.FloatTensor of size 5x3 (GPU 0)]\n",
      "\n"
     ]
    }
   ],
   "source": [
    "if torch.cuda.is_available():\n",
    "    x = x.cuda()\n",
    "    y = y.cuda()\n",
    "    print(x + y)"
   ]
  },
  {
   "cell_type": "markdown",
   "metadata": {},
   "source": [
    "# Autograd: Automatic Differentiation"
   ]
  },
  {
   "attachments": {
    "image.png": {
     "image/png": "[encoded data removed]"
    }
   },
   "cell_type": "markdown",
   "metadata": {},
   "source": [
    "![image.png](attachment:image.png)"
   ]
  },
  {
   "cell_type": "code",
   "execution_count": 9,
   "metadata": {},
   "outputs": [
    {
     "name": "stdout",
     "output_type": "stream",
     "text": [
      "Variable containing:\n",
      " 1  1\n",
      " 1  1\n",
      "[torch.FloatTensor of size 2x2]\n",
      "\n"
     ]
    }
   ],
   "source": [
    "from torch.autograd import Variable\n",
    "x = Variable(torch.ones(2,2), requires_grad = True)\n",
    "print(x)"
   ]
  },
  {
   "cell_type": "code",
   "execution_count": 10,
   "metadata": {},
   "outputs": [
    {
     "name": "stdout",
     "output_type": "stream",
     "text": [
      "Variable containing:\n",
      " 3  3\n",
      " 3  3\n",
      "[torch.FloatTensor of size 2x2]\n",
      "\n"
     ]
    }
   ],
   "source": [
    "y = x + 2\n",
    "print(y)"
   ]
  },
  {
   "cell_type": "markdown",
   "metadata": {},
   "source": [
    "`y` was created as a result of an operation, so it has a `grad_fn`, while `x` doesn't."
   ]
  },
  {
   "cell_type": "code",
   "execution_count": 11,
   "metadata": {},
   "outputs": [
    {
     "name": "stdout",
     "output_type": "stream",
     "text": [
      "<torch.autograd.function.AddConstantBackward object at 0x7f50303b27c8>\n",
      "None\n"
     ]
    }
   ],
   "source": [
    "# Get the gradient function for the operation\n",
    "print(y.grad_fn)\n",
    "print(x.grad_fn)"
   ]
  },
  {
   "cell_type": "code",
   "execution_count": 12,
   "metadata": {},
   "outputs": [
    {
     "name": "stdout",
     "output_type": "stream",
     "text": [
      "Variable containing:\n",
      " 27  27\n",
      " 27  27\n",
      "[torch.FloatTensor of size 2x2]\n",
      " Variable containing:\n",
      " 27\n",
      "[torch.FloatTensor of size 1]\n",
      "\n",
      "<torch.autograd.function.MulConstantBackward object at 0x7f50303b28b8>\n",
      "<torch.autograd.function.MeanBackward object at 0x7f50303b29a8>\n"
     ]
    }
   ],
   "source": [
    "z = y * y * 3\n",
    "out = z.mean()\n",
    "\n",
    "print(z, out)\n",
    "print(z.grad_fn)\n",
    "print(out.grad_fn)"
   ]
  },
  {
   "cell_type": "code",
   "execution_count": 13,
   "metadata": {},
   "outputs": [
    {
     "name": "stdout",
     "output_type": "stream",
     "text": [
      "Variable containing:\n",
      " 4.5000  4.5000\n",
      " 4.5000  4.5000\n",
      "[torch.FloatTensor of size 2x2]\n",
      "\n"
     ]
    }
   ],
   "source": [
    "# Computing the values for the Gradients\n",
    "\n",
    "out.backward() # Compute the backward gradients\n",
    "# Equivalent to out.backward(torch.Tensor([1.0]))\n",
    "print(x.grad)"
   ]
  },
  {
   "cell_type": "markdown",
   "metadata": {},
   "source": [
    "The result above follows since\n",
    "$$\n",
    "\\begin{eqnarray}\n",
    "out&=&\\frac{1}{4}\\sum_i{z_i}\\\\\n",
    "&=&\\frac{1}{4}\\sum_i{3(x_i+2)^2}\n",
    "\\end{eqnarray}\n",
    "$$\n",
    "\n",
    "and thus\n",
    "\n",
    "$$\n",
    "\\begin{eqnarray}\n",
    "\\frac{\\partial out}{\\partial x_i}\\big|_{x_i=1}=\\frac{3}{2}(x_i+2)\\big|_{x_i=1}=4.5\n",
    "\\end{eqnarray}\n",
    "$$"
   ]
  },
  {
   "cell_type": "code",
   "execution_count": 15,
   "metadata": {},
   "outputs": [
    {
     "name": "stdout",
     "output_type": "stream",
     "text": [
      "Variable containing:\n",
      "  253.7953\n",
      "  701.6349\n",
      " 1293.9794\n",
      "[torch.FloatTensor of size 3]\n",
      "\n",
      "Variable containing:\n",
      "  102.4000\n",
      " 1024.0000\n",
      "    0.1024\n",
      "[torch.FloatTensor of size 3]\n",
      "\n"
     ]
    }
   ],
   "source": [
    "# Some more experiments\n",
    "x = torch.randn(3)\n",
    "x = Variable(x, requires_grad = True)\n",
    "\n",
    "y = x * 2\n",
    "\n",
    "while y.data.norm() < 1000:\n",
    "    y = y * 2\n",
    "    \n",
    "print(y)\n",
    "\n",
    "gradients = torch.FloatTensor([0.1,1.0,0.0001])\n",
    "y.backward(gradients)\n",
    "\n",
    "print(x.grad)"
   ]
  },
  {
   "cell_type": "markdown",
   "metadata": {},
   "source": [
    "# Neural Networks"
   ]
  },
  {
   "cell_type": "code",
   "execution_count": 16,
   "metadata": {
    "collapsed": true
   },
   "outputs": [],
   "source": [
    "import torch\n",
    "from torch.autograd import Variable\n",
    "import torch.nn as nn\n",
    "import torch.nn.functional as F"
   ]
  },
  {
   "cell_type": "markdown",
   "metadata": {},
   "source": [
    "### Define a Network"
   ]
  },
  {
   "cell_type": "code",
   "execution_count": 28,
   "metadata": {},
   "outputs": [
    {
     "name": "stdout",
     "output_type": "stream",
     "text": [
      "Network (\n",
      "  (conv1): Conv2d(1, 6, kernel_size=(5, 5), stride=(1, 1))\n",
      "  (conv2): Conv2d(6, 16, kernel_size=(5, 5), stride=(1, 1))\n",
      "  (fc1): Linear (400 -> 120)\n",
      "  (fc2): Linear (120 -> 84)\n",
      "  (fc3): Linear (84 -> 10)\n",
      ")\n"
     ]
    }
   ],
   "source": [
    "class Network(nn.Module):\n",
    "    \n",
    "    def __init__(self):\n",
    "        # Call the initializer for nn.Module\n",
    "        super().__init__()\n",
    "        # 1 input image channel, 6 output channels,\n",
    "        # 5x5 square convolution kernel\n",
    "        self.conv1 = nn.Conv2d(1, 6, 5)\n",
    "        # 6 input image channel, 16 output channels,\n",
    "        # 5x5 square convolution kernel\n",
    "        self.conv2 = nn.Conv2d(6, 16, 5)\n",
    "        # Affine operations: y = Wx + b\n",
    "        self.fc1 = nn.Linear(16*5*5, 120)\n",
    "        self.fc2 = nn.Linear(120, 84)\n",
    "        self.fc3 = nn.Linear(84, 10)\n",
    "        \n",
    "    def forward(self, x):\n",
    "        '''\n",
    "        Define the Forward Propagation.\n",
    "        Backward propagation is automatically computed by\n",
    "        `backward()`\n",
    "        '''\n",
    "        # Max pooling over a (2,2) window\n",
    "        x = F.max_pool2d(F.relu(self.conv1(x)), (2,2))\n",
    "        # Max pooling over a (2,2) window(another way)\n",
    "        x = F.max_pool2d(F.relu(self.conv2(x)), 2)\n",
    "        # Flatten the inputs into a long vector\n",
    "        x = x.view(-1, self.num_flat_features(x))\n",
    "        x = F.relu(self.fc1(x))\n",
    "        x = F.relu(self.fc2(x))\n",
    "        x = self.fc3(x)\n",
    "        return x\n",
    "    \n",
    "    def num_flat_features(self, x):\n",
    "        size = x.size()[1:] # all dimensions except for the batch\n",
    "        num_features = 1\n",
    "        for s in size:\n",
    "            num_features *= s\n",
    "        return num_features\n",
    "    \n",
    "net = Network()\n",
    "print(net)"
   ]
  },
  {
   "cell_type": "markdown",
   "metadata": {},
   "source": [
    "### Identify the learnable parameters for a model"
   ]
  },
  {
   "cell_type": "code",
   "execution_count": 29,
   "metadata": {},
   "outputs": [
    {
     "data": {
      "text/plain": [
       "[Parameter containing:\n",
       " (0 ,0 ,.,.) = \n",
       "   0.1587 -0.1693 -0.0658 -0.0913  0.0079\n",
       "   0.1394 -0.1915 -0.0187  0.1173 -0.0202\n",
       "   0.1340  0.1634  0.1241 -0.1142  0.0966\n",
       "  -0.1183  0.0400  0.0144 -0.0347 -0.1816\n",
       "  -0.0895  0.0295 -0.1537 -0.0334  0.1317\n",
       " \n",
       " (1 ,0 ,.,.) = \n",
       "  -0.0836  0.0226  0.0882 -0.0504  0.1853\n",
       "   0.0118 -0.0648  0.0375  0.1346  0.0281\n",
       "   0.0053 -0.1210 -0.0998  0.0582 -0.0240\n",
       "  -0.1580 -0.0145  0.0988  0.1191 -0.1873\n",
       "  -0.0983  0.0595  0.0413 -0.1250 -0.1709\n",
       " \n",
       " (2 ,0 ,.,.) = \n",
       "   0.1380  0.1060 -0.1221  0.0132 -0.0785\n",
       "  -0.0004  0.0726 -0.0799 -0.1359 -0.1513\n",
       "   0.1576 -0.0974 -0.1305 -0.0845  0.0099\n",
       "  -0.1620  0.1575 -0.0016 -0.0947 -0.0993\n",
       "   0.0354  0.1568 -0.1191 -0.1930 -0.1245\n",
       " \n",
       " (3 ,0 ,.,.) = \n",
       "  -0.0418 -0.1713 -0.0951 -0.0672  0.0626\n",
       "  -0.0691 -0.1367  0.1019  0.1494  0.0275\n",
       "  -0.1394 -0.1966 -0.1666  0.0113  0.1033\n",
       "  -0.1743  0.0778  0.0682  0.0298  0.1176\n",
       "   0.1305 -0.1043  0.1590 -0.0157 -0.0118\n",
       " \n",
       " (4 ,0 ,.,.) = \n",
       "   0.1940  0.1255 -0.1023 -0.0041 -0.0599\n",
       "  -0.1011 -0.0676 -0.1667 -0.0981  0.1220\n",
       "  -0.0773 -0.0670 -0.1660 -0.1212 -0.1683\n",
       "   0.0315 -0.1906  0.0566 -0.1225  0.0285\n",
       "   0.0045  0.0645 -0.0505 -0.0066  0.1757\n",
       " \n",
       " (5 ,0 ,.,.) = \n",
       "  -0.1911  0.1573  0.1651 -0.1396  0.1298\n",
       "   0.1592 -0.1343  0.0292  0.1018 -0.1292\n",
       "   0.1125 -0.0674 -0.1566  0.1141  0.1499\n",
       "   0.1346  0.0687 -0.0087 -0.0504 -0.0268\n",
       "   0.1127 -0.0143  0.1095 -0.1829  0.1667\n",
       " [torch.FloatTensor of size 6x1x5x5], Parameter containing:\n",
       "  0.0720\n",
       " -0.0229\n",
       " -0.1293\n",
       " -0.0769\n",
       "  0.0332\n",
       "  0.0171\n",
       " [torch.FloatTensor of size 6], Parameter containing:\n",
       " (0 ,0 ,.,.) = \n",
       " 1.00000e-02 *\n",
       "  -3.8916  8.0321  3.2716  4.2313  3.1107\n",
       "   6.7335  7.2150  0.6958 -0.9491  3.4759\n",
       "   6.8967 -6.8198  6.4490 -2.6962 -6.0631\n",
       "  -1.8702  5.7819 -0.3771  1.2205 -5.1346\n",
       "   2.2812  4.0891 -2.2969  4.8917 -6.1920\n",
       " \n",
       " (0 ,1 ,.,.) = \n",
       " 1.00000e-02 *\n",
       "  -2.0548 -1.6258 -0.9385 -4.6164 -5.8549\n",
       "  -0.9528 -0.7627  4.0318  3.4922 -6.1874\n",
       "   4.0982 -1.1398  0.3325 -3.5448 -2.5149\n",
       "   6.1973 -1.8893  4.7839  6.4506 -2.7137\n",
       "  -3.7836  6.7744 -8.1234  2.1888  4.7397\n",
       " \n",
       " (0 ,2 ,.,.) = \n",
       " 1.00000e-02 *\n",
       "   7.7828  7.9473 -3.3264  7.1466 -7.3905\n",
       "  -0.3589  0.1184 -7.6335  7.3244 -1.1564\n",
       "   6.1961 -6.5524  3.4084 -7.3024 -4.3169\n",
       "  -4.6497  2.5652 -4.7757 -6.0834 -3.1142\n",
       "   7.8558  7.3137  5.8314  0.1291  1.4456\n",
       " \n",
       " (0 ,3 ,.,.) = \n",
       " 1.00000e-02 *\n",
       "  -0.6276  1.1604  2.2697  2.3364  2.1647\n",
       "  -5.9978 -5.7279 -7.7209 -1.5583  8.1529\n",
       "   7.1919 -5.0275  4.2978  7.5853  1.1161\n",
       "   2.4636 -5.7690  4.7760  3.7574  6.2226\n",
       "  -2.5102 -1.2610 -6.7661 -3.1672 -4.8314\n",
       " \n",
       " (0 ,4 ,.,.) = \n",
       " 1.00000e-02 *\n",
       "   5.8227 -2.9024 -3.1803 -0.8581  2.1027\n",
       "   4.6830 -7.5168 -2.3738  6.0708  0.2017\n",
       "  -3.2849  7.3144  6.5795 -7.8510 -4.7876\n",
       "   5.3026  5.4333 -2.7053  4.4637  6.1443\n",
       "  -0.9782 -0.5511  5.8221  0.3310 -5.3443\n",
       " \n",
       " (0 ,5 ,.,.) = \n",
       " 1.00000e-02 *\n",
       "  -3.0578 -2.6759 -5.3524  5.6294  0.2190\n",
       "   5.6736  0.0916 -7.7547  7.7269 -5.1948\n",
       "  -6.6926  4.6774 -4.0871  7.3443  0.5862\n",
       "   5.6350 -4.6528 -3.7778  0.6326 -1.3352\n",
       "  -0.2047 -6.8346  3.4647 -5.9700 -4.5038\n",
       "      ⋮ \n",
       " \n",
       " (1 ,0 ,.,.) = \n",
       " 1.00000e-02 *\n",
       "   7.2645  2.4266 -3.5691 -5.2149 -2.9547\n",
       "   7.8417  5.1167 -7.4290 -0.9825 -4.2590\n",
       "   8.0241 -0.1050 -6.0198 -0.0239 -6.8874\n",
       "  -5.3316 -0.6668  5.6419 -7.5080  2.6589\n",
       "   4.2261 -2.7320  0.3042  7.6202  0.2542\n",
       " \n",
       " (1 ,1 ,.,.) = \n",
       " 1.00000e-02 *\n",
       "   2.5416  6.5058  5.8465  8.0247 -2.6550\n",
       "   6.1151 -0.5190 -1.3264  1.2650 -3.3702\n",
       "   6.6340  3.6439 -2.1730  0.6502  1.7411\n",
       "   2.1171  2.5183 -5.2466  7.8824  0.6042\n",
       "   6.3334 -7.0823 -6.5847  2.2262 -6.7206\n",
       " \n",
       " (1 ,2 ,.,.) = \n",
       " 1.00000e-02 *\n",
       "  -3.7952  4.3315 -1.0055 -0.5137 -2.5650\n",
       "  -2.8416 -7.6930 -0.2956  6.8735 -0.0909\n",
       "  -8.0485 -2.1897  5.2137 -1.7513  3.0478\n",
       "   4.7502  3.2676 -4.7072 -4.4654 -4.4535\n",
       "   5.6187  0.6779  2.8120  3.3257  0.9207\n",
       " \n",
       " (1 ,3 ,.,.) = \n",
       " 1.00000e-02 *\n",
       "  -2.6804  8.0693 -2.5422  3.0359 -7.8773\n",
       "   1.3980 -3.5578 -6.6688  2.2087 -1.4527\n",
       "  -2.5323 -2.4270 -0.0403  5.5556 -5.1292\n",
       "   1.4221  6.9296 -0.7575 -7.3231  4.4156\n",
       "  -4.5722  4.7748 -0.2905  0.2811  2.7528\n",
       " \n",
       " (1 ,4 ,.,.) = \n",
       " 1.00000e-02 *\n",
       "   0.4874  5.7270  1.4808 -4.7637  5.9985\n",
       "   1.0634 -1.6210 -1.7256 -1.8218 -7.3509\n",
       "  -0.9023  6.7078  4.4523 -3.8440  5.0583\n",
       "   2.1053 -3.7364  6.7672  6.1735  0.5618\n",
       "  -7.2307 -5.2961  3.1568 -5.0520  2.4495\n",
       " \n",
       " (1 ,5 ,.,.) = \n",
       " 1.00000e-02 *\n",
       "   5.8855 -4.5588  6.5645  6.0516  2.1091\n",
       "   3.8554 -1.1620 -2.3334 -0.9281 -0.7302\n",
       "   5.1059 -4.7965 -7.9214  4.9229 -1.3855\n",
       "   2.3757  0.1407 -7.1128  0.1173  2.6525\n",
       "  -5.4666  2.3358  3.0312  6.9876 -4.5148\n",
       "      ⋮ \n",
       " \n",
       " (2 ,0 ,.,.) = \n",
       " 1.00000e-02 *\n",
       "  -7.1087  1.4781  2.4110  7.0133  0.2196\n",
       "   1.2261 -0.1539  7.8963 -6.8300  7.4864\n",
       "   7.6428  7.8862 -1.4595 -1.2616 -2.6334\n",
       "  -7.0706 -3.3910  2.1451 -7.7507 -7.6740\n",
       "  -7.1091  1.3475  6.3954 -3.0849  7.2503\n",
       " \n",
       " (2 ,1 ,.,.) = \n",
       " 1.00000e-02 *\n",
       "   5.7769 -5.7240  5.1579 -7.8516 -6.4531\n",
       "   0.0991 -5.1715 -7.4409  4.4818 -1.4495\n",
       "   2.6756 -0.9303 -4.6735 -1.6248  5.3393\n",
       "  -7.3927 -6.6357 -5.1919  3.2232  5.4440\n",
       "  -0.3305 -6.2256  1.3296 -0.9082 -7.1813\n",
       " \n",
       " (2 ,2 ,.,.) = \n",
       " 1.00000e-02 *\n",
       "   3.2261 -7.0656  1.8537  1.3782  4.2857\n",
       "  -3.8282  8.0352  1.8470 -7.6821 -5.8195\n",
       "  -2.5433 -6.7498 -6.5693  2.1431  7.9143\n",
       "  -3.0442  7.7128  4.2987  7.0829  4.0214\n",
       "   4.2573  4.5449 -1.8817 -0.6798 -5.8836\n",
       " \n",
       " (2 ,3 ,.,.) = \n",
       " 1.00000e-02 *\n",
       "  -6.1011  7.7540  8.1362 -4.5668 -8.0310\n",
       "   5.4572  5.4683  0.3788  2.2760 -1.8346\n",
       "  -2.2493  2.2137  6.7627  6.0964  0.1201\n",
       "  -7.5200  6.8358  0.7510  7.2267  0.7684\n",
       "   7.5393  7.1321 -4.3521  1.7330  3.6637\n",
       " \n",
       " (2 ,4 ,.,.) = \n",
       " 1.00000e-02 *\n",
       "  -6.9480  4.3072 -0.9722  3.3938 -7.0319\n",
       "   5.4923  6.3335  0.3227  5.8622 -6.9572\n",
       "   3.3988  5.8896  1.1240 -2.9929 -7.3071\n",
       "  -6.5171  3.1310 -6.7428 -2.4029 -3.4723\n",
       "   6.1569  0.6316 -6.1853 -5.1724 -5.5787\n",
       " \n",
       " (2 ,5 ,.,.) = \n",
       " 1.00000e-02 *\n",
       "  -7.9028  0.5452 -4.0519  5.7125  6.2257\n",
       "   0.3903  7.5158  7.4937  1.3904  0.0376\n",
       "   0.1624  0.8337 -5.6693  2.8953  6.1231\n",
       "  -4.4749  3.4200  0.5998 -6.5578  2.3726\n",
       "  -0.0400  0.8395  0.3179 -1.3661  3.3844\n",
       " ...   \n",
       "      ⋮ \n",
       " \n",
       " (13,0 ,.,.) = \n",
       " 1.00000e-02 *\n",
       "   3.8023 -0.7393 -0.7685  7.0040  4.5221\n",
       "  -0.2426  7.5453  0.7038  4.4764  1.9680\n",
       "   0.5446 -5.4508 -6.1858  4.5058  4.4746\n",
       "  -4.6696  4.2043 -5.1714  2.0292 -2.6757\n",
       "   2.6029 -3.3633 -2.2685 -0.1933  4.6019\n",
       " \n",
       " (13,1 ,.,.) = \n",
       " 1.00000e-02 *\n",
       "   2.4661  2.2571 -5.0856 -7.6328 -2.0220\n",
       "  -0.3497  2.6423 -3.4225  6.2965 -5.4939\n",
       "   0.8478  5.4927 -0.7241 -3.0484 -7.4840\n",
       "   0.0761  7.6876  3.7180 -8.1448 -3.0470\n",
       "  -4.6674  8.0895 -6.6046  2.3645  1.6653\n",
       " \n",
       " (13,2 ,.,.) = \n",
       " 1.00000e-02 *\n",
       "   4.3357  1.8838 -3.8476 -4.9581  7.0969\n",
       "  -5.2751 -6.0878 -7.7735 -1.3359 -1.4910\n",
       "   7.4237 -5.0459  4.1508 -1.2717  7.6019\n",
       "  -0.7230  7.0667  1.4986 -3.9676  4.3818\n",
       "   0.8559  1.2675  2.2352  0.1397 -3.3290\n",
       " \n",
       " (13,3 ,.,.) = \n",
       " 1.00000e-02 *\n",
       "  -6.3340  1.1782 -7.1897  7.5974 -3.5080\n",
       "   7.5727 -4.5628 -3.0799 -1.1733 -4.2751\n",
       "  -1.0950 -4.8354  5.9765 -0.9641  1.9864\n",
       "   5.7359  0.6384 -1.0612 -3.7545 -0.2841\n",
       "  -4.2402 -6.6932 -6.7317 -6.9014 -0.3986\n",
       " \n",
       " (13,4 ,.,.) = \n",
       " 1.00000e-02 *\n",
       "  -5.6569  4.0779  1.0669 -5.9778 -0.2437\n",
       "   4.1529 -5.1605 -6.6797  1.6410  1.9871\n",
       "  -1.7807  4.0630 -1.6456 -7.1876  2.6604\n",
       "   2.0546  2.2512  0.0668 -1.7717 -4.1833\n",
       "   5.3629 -7.0979 -5.4964  1.8656 -3.4358\n",
       " \n",
       " (13,5 ,.,.) = \n",
       " 1.00000e-02 *\n",
       "  -2.2052  5.9835 -2.9450 -7.7987 -4.3634\n",
       "  -5.8948  7.0333 -7.4386 -5.1763 -6.9281\n",
       "  -6.8675  0.9172  0.1755  0.9391 -7.1225\n",
       "   6.0225 -1.3622  3.6970 -4.7341  1.0463\n",
       "   2.3615  4.7274  4.9743 -6.0791 -1.7513\n",
       "      ⋮ \n",
       " \n",
       " (14,0 ,.,.) = \n",
       " 1.00000e-02 *\n",
       "   4.7423 -5.4922 -4.6659  4.6338 -3.4077\n",
       "   1.2098  7.2736 -1.7827  1.3172 -4.3197\n",
       "  -2.2926 -2.9290  2.1185 -7.0126 -4.9917\n",
       "  -1.1097  4.0121 -3.3232 -5.2350 -1.0412\n",
       "  -3.7746 -1.8846  0.9059  2.0267 -0.4899\n",
       " \n",
       " (14,1 ,.,.) = \n",
       " 1.00000e-02 *\n",
       "   3.4845 -1.9358  5.8305  4.6838 -6.6929\n",
       "   1.1008  0.2960 -6.1402 -7.4953 -7.9391\n",
       "   3.2532 -0.9722 -7.4244 -0.6728  7.8823\n",
       "   2.6321  1.2897  4.8092  5.0377  1.6219\n",
       "  -7.9215  5.6730  1.2336  5.8243  0.9817\n",
       " \n",
       " (14,2 ,.,.) = \n",
       " 1.00000e-02 *\n",
       "   2.0050  1.2527  4.9110  7.5501 -1.9732\n",
       "   2.0565 -7.6895 -1.7922 -0.8677 -2.5984\n",
       "   2.0807 -8.1279 -7.6846  2.4198  3.4694\n",
       "   3.5111 -5.4071 -4.2679 -5.2989  8.0277\n",
       "   6.8876  6.7286 -2.3417 -7.8513 -1.6029\n",
       " \n",
       " (14,3 ,.,.) = \n",
       " 1.00000e-02 *\n",
       "   7.9348  0.2995  7.5974  1.8707 -7.3286\n",
       "   0.3352 -5.4949 -3.6064  5.8991  1.6708\n",
       "   7.6645 -1.8174 -7.4739  7.2053  7.4937\n",
       "   7.2198 -5.1252  7.5631  4.6079 -4.2314\n",
       "   1.2148 -3.4518  5.4728 -0.9633  0.0325\n",
       " \n",
       " (14,4 ,.,.) = \n",
       " 1.00000e-02 *\n",
       "   6.7256  7.5773 -7.6275  1.6578 -7.8356\n",
       "   3.9097  1.1521  1.8336  4.3732 -1.2607\n",
       "  -3.5275  7.3688  2.6749 -3.3780  2.1816\n",
       "  -6.1726  2.3261 -2.9343  3.8815  3.4636\n",
       "  -0.1677 -5.4735  0.5333 -5.6115 -7.5653\n",
       " \n",
       " (14,5 ,.,.) = \n",
       " 1.00000e-02 *\n",
       "   5.3670 -7.9088  1.7737 -1.5294  3.2824\n",
       "   5.2628 -2.0396 -6.0529 -2.5308 -6.7541\n",
       "  -4.7159  0.5204  5.7927 -1.8127 -3.1716\n",
       "   7.4196 -6.5621 -6.7493 -3.5533  2.6263\n",
       "   4.8119 -3.9591  2.9280  2.1275 -1.8331\n",
       "      ⋮ \n",
       " \n",
       " (15,0 ,.,.) = \n",
       " 1.00000e-02 *\n",
       "  -0.7286 -0.5283 -0.0256  1.4197 -7.4425\n",
       "   1.1806  3.8149 -7.3947 -1.8818  1.7130\n",
       "  -2.4712  2.9652 -5.9402 -7.1190 -4.6831\n",
       "  -7.8493 -0.6092 -6.6951  6.8611 -4.0706\n",
       "  -3.6327  6.4367  6.8080 -0.0873 -3.9734\n",
       " \n",
       " (15,1 ,.,.) = \n",
       " 1.00000e-02 *\n",
       "   0.2799  1.5727  6.4361  4.1015  2.2402\n",
       "  -3.1485  3.9858  5.3431  7.5865 -3.5856\n",
       "  -3.7533 -1.3929  5.2683  3.4508  5.7327\n",
       "  -1.0043 -0.8024  7.7255  7.9202  6.4182\n",
       "  -6.3537 -1.5833 -8.0653 -6.0281 -3.5740\n",
       " \n",
       " (15,2 ,.,.) = \n",
       " 1.00000e-02 *\n",
       "   4.0803 -2.8429 -0.0049  2.6628 -4.7846\n",
       "   3.3060 -0.0864  2.8883  5.2907 -7.5099\n",
       "   1.4674  4.4260 -6.2351  2.7983 -4.7635\n",
       "   5.6941 -1.1669 -0.4323 -2.6592  6.1750\n",
       "   2.3591 -3.0709  0.6404  3.9114 -2.7212\n",
       " \n",
       " (15,3 ,.,.) = \n",
       " 1.00000e-02 *\n",
       "  -3.2603  6.8341 -3.4694  6.5161 -0.9033\n",
       "  -2.1884 -5.4397  0.9346  7.0970  4.7615\n",
       "   0.5619  5.7720  0.1167  6.6302 -5.2166\n",
       "  -6.5798  1.7156 -6.7807  1.4027 -0.1196\n",
       "  -3.0516 -7.7184  2.3327  1.6493 -4.0170\n",
       " \n",
       " (15,4 ,.,.) = \n",
       " 1.00000e-02 *\n",
       "   2.4129  3.8299 -6.2397  7.7101  3.8884\n",
       "   1.2083  0.2858  5.1304 -6.5807  2.9655\n",
       "  -7.9888 -1.1438  6.0874  7.4113 -2.4057\n",
       "  -7.1873 -4.5681  0.1229 -1.6265 -1.7309\n",
       "  -4.6957 -4.0077  5.2660  4.5289 -6.7424\n",
       " \n",
       " (15,5 ,.,.) = \n",
       " 1.00000e-02 *\n",
       "  -3.9854 -1.7952  7.1658  2.3458 -6.6363\n",
       "  -6.8018  2.5263  3.2100 -3.9952  6.0405\n",
       "   6.3435 -2.2252  1.5363 -2.9974  3.7805\n",
       "   7.4398 -7.1243 -3.6566  3.3972 -0.5781\n",
       "   4.3165  2.3816 -5.2914  6.9744  1.0588\n",
       " [torch.FloatTensor of size 16x6x5x5], Parameter containing:\n",
       " 1.00000e-02 *\n",
       "  -5.3539\n",
       "   6.7036\n",
       "  -6.5920\n",
       "   7.5654\n",
       "   6.7424\n",
       "  -0.7636\n",
       "   0.9195\n",
       "  -4.4235\n",
       "   2.8647\n",
       "  -1.7313\n",
       "  -4.8500\n",
       "  -3.5665\n",
       "  -6.5378\n",
       "  -4.2483\n",
       "  -0.4967\n",
       "  -1.0066\n",
       " [torch.FloatTensor of size 16], Parameter containing:\n",
       "  9.4623e-04  1.5427e-02  7.2882e-04  ...  -4.4851e-02  1.2637e-02 -1.3310e-02\n",
       " -4.5186e-03 -4.5439e-02  3.9234e-02  ...   4.5310e-02  1.6369e-02 -5.8361e-03\n",
       " -3.8757e-02  2.8940e-02  3.7024e-02  ...  -3.9357e-02 -2.6330e-02 -3.0711e-02\n",
       "                 ...                   ⋱                   ...                \n",
       " -4.2369e-02 -3.0638e-02  2.4652e-02  ...   1.8087e-02  6.7928e-03  4.3734e-02\n",
       " -3.7480e-02  2.2913e-03  3.2206e-03  ...   3.9159e-02 -4.0832e-02 -4.7778e-02\n",
       "  3.6286e-02  4.1361e-02  3.3469e-02  ...  -4.1603e-02  2.0889e-02  1.5111e-02\n",
       " [torch.FloatTensor of size 120x400], Parameter containing:\n",
       " 1.00000e-02 *\n",
       "  -4.3280\n",
       "   3.3434\n",
       "   0.4076\n",
       "  -4.6712\n",
       "  -3.5387\n",
       "   4.3479\n",
       "  -4.9318\n",
       "   4.7466\n",
       "   1.1909\n",
       "  -1.2221\n",
       "   4.4482\n",
       "   1.8468\n",
       "   1.3513\n",
       "  -1.7725\n",
       "   0.2243\n",
       "  -0.8347\n",
       "   1.1914\n",
       "  -3.9646\n",
       "   1.9077\n",
       "  -1.6703\n",
       "   1.2252\n",
       "  -0.6621\n",
       "   0.7691\n",
       "   2.8921\n",
       "  -4.3984\n",
       "   2.1936\n",
       "   3.7676\n",
       "   2.5133\n",
       "  -1.3555\n",
       "  -3.7024\n",
       "   2.3642\n",
       "  -3.0793\n",
       "   3.2908\n",
       "  -4.6393\n",
       "   1.9437\n",
       "   0.4931\n",
       "   1.9587\n",
       "  -0.3191\n",
       "  -1.3888\n",
       "   3.1882\n",
       "  -0.0252\n",
       "  -4.1922\n",
       "   1.9210\n",
       "  -1.3726\n",
       "   2.0758\n",
       "  -2.2595\n",
       "   2.5796\n",
       "   4.5566\n",
       "   0.6389\n",
       "   4.5212\n",
       "  -0.7881\n",
       "   4.2594\n",
       "  -4.0468\n",
       "  -2.5912\n",
       "  -4.7201\n",
       "  -1.5734\n",
       "   1.4402\n",
       "  -3.2301\n",
       "  -4.1459\n",
       "   0.2680\n",
       "   0.7512\n",
       "  -4.6759\n",
       "   2.8320\n",
       "  -4.5620\n",
       "  -4.4733\n",
       "  -2.1015\n",
       "  -0.4959\n",
       "   0.5490\n",
       "   3.3913\n",
       "  -4.2231\n",
       "   3.0998\n",
       "   3.0523\n",
       "  -2.8812\n",
       "  -3.4292\n",
       "   0.5757\n",
       "  -0.2841\n",
       "   1.1787\n",
       "  -4.0402\n",
       "   1.5207\n",
       "  -2.4139\n",
       "   1.4964\n",
       "   1.5719\n",
       "   1.9189\n",
       "  -3.6915\n",
       "  -1.9936\n",
       "   0.5390\n",
       "   2.6650\n",
       "  -0.5708\n",
       "   0.4121\n",
       "   2.8810\n",
       "   2.0429\n",
       "  -3.7459\n",
       "   2.0796\n",
       "  -4.4975\n",
       "  -4.4671\n",
       "  -4.4094\n",
       "  -0.3362\n",
       "   0.9272\n",
       "  -4.2555\n",
       "  -1.0316\n",
       "  -1.3851\n",
       "   2.8640\n",
       "   2.0021\n",
       "  -4.1763\n",
       "  -0.3291\n",
       "  -3.1945\n",
       "  -3.3764\n",
       "   4.4957\n",
       "   4.1213\n",
       "  -3.2059\n",
       "   3.3133\n",
       "   3.9262\n",
       "   2.2571\n",
       "  -1.1168\n",
       "  -2.1691\n",
       "  -1.5272\n",
       "   2.1284\n",
       "  -4.8289\n",
       "  -1.2727\n",
       "  -4.5983\n",
       " [torch.FloatTensor of size 120], Parameter containing:\n",
       " 1.00000e-02 *\n",
       "  8.2526 -4.0983  3.2458  ...  -0.5283  4.6705 -7.6456\n",
       "  6.7872  2.6507 -3.2832  ...  -2.3241 -6.7005  8.2588\n",
       " -7.0803  1.6878  4.7848  ...   6.6494  7.3864  7.0153\n",
       "           ...             ⋱             ...          \n",
       " -3.0341 -6.0828  3.4833  ...  -2.0494 -9.0724  2.8720\n",
       "  4.2524  8.4128 -4.7873  ...   1.7020  8.4668 -1.7118\n",
       "  8.4220  2.6790 -5.4699  ...   6.0108 -6.0644 -0.9329\n",
       " [torch.FloatTensor of size 84x120], Parameter containing:\n",
       " 1.00000e-02 *\n",
       "  -5.8421\n",
       "   1.1910\n",
       "  -0.4322\n",
       "  -7.4824\n",
       "  -2.7700\n",
       "  -3.4109\n",
       "  -8.4860\n",
       "  -2.3211\n",
       "   7.8055\n",
       "  -5.1428\n",
       "   5.2575\n",
       "  -5.5517\n",
       "  -2.5968\n",
       "   7.3061\n",
       "   3.7068\n",
       "  -5.9589\n",
       "  -3.5677\n",
       "   0.7121\n",
       "   0.7744\n",
       "   5.8481\n",
       "   7.2329\n",
       "  -2.1958\n",
       "   4.5821\n",
       "  -3.0475\n",
       "   0.3739\n",
       "   5.8174\n",
       "  -0.3788\n",
       "   7.4101\n",
       "   8.4406\n",
       "  -1.0093\n",
       "   4.1055\n",
       "   8.8446\n",
       "   2.0026\n",
       "  -1.3031\n",
       "  -5.6312\n",
       "   5.6030\n",
       "  -0.6183\n",
       "  -5.7396\n",
       "   3.4187\n",
       "   5.3660\n",
       "   7.1316\n",
       "  -8.7199\n",
       "   2.8870\n",
       "   5.4300\n",
       "  -3.1604\n",
       "   4.6018\n",
       "   1.9634\n",
       "   3.3891\n",
       "   3.3073\n",
       "   2.7381\n",
       "   6.5040\n",
       "  -2.4618\n",
       "   1.8572\n",
       "  -8.7410\n",
       "   3.5921\n",
       "   8.5679\n",
       "   2.8178\n",
       "  -1.0554\n",
       "   2.2371\n",
       "  -0.9509\n",
       "   5.5455\n",
       "  -0.2965\n",
       "  -2.0067\n",
       "  -3.5541\n",
       "   8.8934\n",
       "   5.3471\n",
       "   1.1511\n",
       "   6.1697\n",
       "  -8.6884\n",
       "   8.0891\n",
       "  -3.9798\n",
       "   6.2677\n",
       "   5.4650\n",
       "   7.2606\n",
       "  -8.3630\n",
       "  -2.2336\n",
       "  -3.8924\n",
       "   3.0778\n",
       "  -1.4161\n",
       "   6.2091\n",
       "   7.9583\n",
       "  -4.5061\n",
       "  -8.5859\n",
       "   2.2404\n",
       " [torch.FloatTensor of size 84], Parameter containing:\n",
       " \n",
       " Columns 0 to 5 \n",
       " -6.0195e-02  2.8169e-02 -6.0917e-02 -3.4676e-02 -6.6468e-02 -9.0018e-02\n",
       " -1.2767e-02 -7.6596e-02  6.9044e-02  1.0177e-01 -4.4181e-02  8.2088e-02\n",
       " -1.0478e-01 -6.6078e-06  6.4252e-02 -9.1473e-02  8.0035e-02  4.7261e-02\n",
       " -6.0691e-03 -8.1339e-02 -2.2849e-02  9.8356e-02  2.1891e-02 -5.1478e-02\n",
       " -1.9073e-02 -4.5621e-02 -4.1342e-02 -7.9718e-02 -5.0964e-02  9.6417e-02\n",
       "  3.2259e-02  4.9190e-02  3.9696e-02 -4.0272e-02  6.0449e-02 -1.0829e-01\n",
       " -7.1791e-02 -5.0461e-02  2.9325e-02 -4.7388e-02 -6.3725e-02 -3.9759e-02\n",
       " -4.1335e-02 -1.6897e-02 -9.6701e-02  4.5363e-02 -3.0144e-02 -4.9888e-02\n",
       " -5.1420e-02 -1.0346e-01  2.0238e-02 -2.9574e-02 -2.8418e-02 -6.3117e-02\n",
       "  9.2872e-03  1.7024e-02  2.3757e-03 -2.0990e-03  7.5694e-03  3.0643e-02\n",
       " \n",
       " Columns 6 to 11 \n",
       " -6.2262e-02  1.0750e-01  1.1827e-02 -2.9912e-02  6.7404e-02  6.2954e-02\n",
       " -9.9376e-02 -8.7922e-02  1.0716e-01 -6.0824e-02  9.1757e-03 -7.2517e-02\n",
       " -5.7688e-02  9.7529e-03  5.7212e-03  6.1754e-02 -7.2903e-02  1.1296e-02\n",
       " -6.6066e-02 -9.7664e-02  4.9211e-02 -8.7621e-02  7.5953e-02 -5.8259e-02\n",
       " -1.8833e-02 -9.9693e-02  8.2348e-02  3.9324e-02  4.4054e-03 -6.3476e-02\n",
       "  7.4578e-03 -1.3725e-02  1.4994e-02  5.4465e-02 -1.0672e-01 -9.4416e-02\n",
       "  1.0169e-01  6.3552e-02 -8.4864e-02  3.4452e-02  3.1891e-02  6.9574e-03\n",
       " -6.4739e-02  7.5360e-02 -7.1690e-02 -3.8457e-02 -4.8218e-02 -7.2939e-02\n",
       " -8.3822e-03  5.7966e-02 -7.5844e-02  1.0104e-01 -6.4294e-02  4.4036e-02\n",
       " -6.7195e-02 -3.2087e-02 -1.0271e-01  9.7519e-02  1.0309e-01  6.0195e-04\n",
       " \n",
       " Columns 12 to 17 \n",
       "  4.4183e-02  1.0885e-01  9.4044e-02 -9.0788e-02 -8.8216e-03  2.2672e-02\n",
       " -6.0884e-02  4.5910e-02 -2.5145e-02  7.3586e-02  1.1935e-03  7.9226e-02\n",
       "  4.8632e-02  5.4952e-02  1.2413e-02 -1.0438e-01 -9.9544e-02  7.0520e-02\n",
       "  6.3428e-02 -2.7452e-02 -4.2562e-02  4.3460e-02  1.4172e-02  3.3592e-02\n",
       " -1.1349e-02 -8.6977e-02 -8.9369e-02  9.2707e-02  6.1343e-02  3.6873e-03\n",
       "  1.8063e-02 -6.4703e-02  3.0688e-02 -4.0891e-02 -6.4690e-02 -5.8330e-02\n",
       " -6.4307e-02  9.8197e-02 -4.6686e-02 -8.4646e-02  9.1900e-02  8.2777e-02\n",
       "  5.8284e-02 -2.8058e-02 -6.1089e-02 -1.0772e-01  3.7143e-02  1.1813e-02\n",
       "  3.4891e-02 -8.0406e-02 -6.2421e-02  5.3501e-02  2.5675e-02  1.0832e-01\n",
       "  7.1681e-02 -5.7867e-02 -6.9242e-02 -9.7202e-02 -3.4867e-02  6.1624e-02\n",
       " \n",
       " Columns 18 to 23 \n",
       "  8.3248e-02  2.7907e-02  1.0058e-01  2.2423e-02  4.7365e-03  7.2939e-02\n",
       " -1.4325e-02 -1.0725e-01  4.6705e-02  1.2568e-02 -8.4721e-02  4.5631e-02\n",
       "  2.4978e-02  4.6498e-02  6.0585e-02  9.8547e-02  3.2157e-02  9.0470e-02\n",
       "  5.6500e-02  4.2374e-02  1.0605e-01 -2.9214e-02 -3.4508e-02 -4.3981e-02\n",
       " -6.3813e-02 -1.0765e-01  4.4599e-02 -1.0007e-01  6.8280e-02  8.1584e-02\n",
       "  1.6231e-02 -4.8216e-02  5.5192e-02 -3.4190e-02 -2.1419e-02 -1.0596e-01\n",
       " -3.9373e-02  8.6675e-02 -9.7779e-02 -3.8626e-02  2.7337e-02  8.0572e-03\n",
       " -6.2556e-02  2.1184e-02 -1.8709e-02 -4.0181e-02 -8.5804e-02  1.3579e-02\n",
       " -3.9258e-02  6.0493e-02 -6.4924e-02  4.5982e-02 -9.9850e-02  1.0200e-01\n",
       "  7.6256e-02 -4.5813e-03  2.7970e-02  3.1851e-02 -1.0172e-01 -1.8894e-03\n",
       " \n",
       " Columns 24 to 29 \n",
       "  7.2114e-02 -1.0545e-01 -6.3220e-02  5.7026e-03  1.0188e-01 -4.3982e-02\n",
       "  4.5834e-03 -5.1278e-02  5.5870e-02  7.6707e-02 -2.4312e-02 -8.7686e-02\n",
       "  9.8921e-02 -1.3118e-03  9.6796e-02 -9.4963e-02 -8.4443e-02  1.0503e-01\n",
       "  8.0982e-03  1.0343e-02  2.2506e-02 -6.5595e-02  3.3396e-02 -9.5014e-02\n",
       "  9.6446e-02 -2.7326e-02  8.7254e-02 -2.3908e-02 -1.4237e-02 -6.1492e-03\n",
       "  1.8660e-02 -6.2810e-02  4.7949e-02  3.5549e-02  7.1905e-02 -6.2993e-03\n",
       " -5.7392e-02  6.8527e-02 -7.3513e-02 -9.2508e-02  4.3798e-03  9.7491e-02\n",
       "  1.0751e-03  4.9469e-02  9.4356e-02 -6.9957e-02 -1.8135e-02 -9.0470e-02\n",
       " -8.0821e-02 -1.2659e-02 -9.7006e-02 -1.8061e-02 -1.1820e-02  2.4720e-02\n",
       " -5.5994e-02 -1.0369e-01  9.2256e-02  9.5768e-02 -3.2789e-02 -6.7596e-02\n",
       " \n",
       " Columns 30 to 35 \n",
       " -1.0917e-02 -3.2485e-02  4.0601e-02  4.6292e-02 -3.3044e-02  6.9347e-02\n",
       "  6.1034e-02 -6.5192e-02 -1.0362e-01 -5.2303e-02  7.1874e-02 -1.0820e-01\n",
       "  4.3314e-02 -5.6608e-02 -8.4814e-02  3.4466e-02 -8.7836e-02  9.6975e-02\n",
       " -6.5392e-02  6.6930e-02  9.4789e-02 -1.2214e-02 -7.1887e-02  1.2367e-02\n",
       " -3.3360e-02 -9.7909e-02 -7.6135e-02  1.5517e-02  3.9081e-02 -5.5146e-05\n",
       "  2.5087e-02  6.6403e-02 -8.9549e-02  8.6184e-03 -3.7278e-02  5.3706e-02\n",
       "  2.8613e-02 -5.1309e-02 -1.6433e-03  1.0413e-01  9.2186e-02 -4.9310e-03\n",
       " -6.8080e-02  8.3776e-02 -4.9898e-02  6.4777e-02  9.7233e-02 -8.2794e-03\n",
       " -7.4277e-02 -8.7452e-02 -5.6458e-02  1.0312e-01 -8.3407e-02 -8.3115e-02\n",
       "  6.5192e-02 -2.2516e-03 -3.5392e-02  3.4810e-02  2.1002e-03  3.9606e-02\n",
       " \n",
       " Columns 36 to 41 \n",
       " -4.0387e-02  8.1934e-02  7.7480e-02  4.5570e-02 -5.6705e-02 -6.4184e-02\n",
       "  8.1110e-02 -6.5386e-02  1.0020e-01  7.2714e-02 -4.8429e-02 -7.2241e-02\n",
       " -9.1572e-02  2.1442e-03 -7.9972e-02  2.4658e-02 -5.2665e-02  8.5505e-03\n",
       "  4.4331e-02  7.2899e-02 -4.5234e-02 -3.9209e-02 -8.4294e-02 -2.9465e-03\n",
       " -6.0463e-02  5.1902e-02  6.4389e-02  8.2467e-02  1.0186e-01 -8.1598e-02\n",
       "  1.0835e-01 -1.8983e-02  7.7006e-02 -1.0356e-01  2.6289e-02 -9.1230e-02\n",
       "  5.8851e-02 -2.5229e-02  8.6799e-02  8.1315e-02  9.9195e-02  2.5118e-02\n",
       " -6.2359e-02 -4.6650e-02  7.9558e-02  2.5687e-02  1.0638e-01  1.6598e-02\n",
       "  9.6102e-02  1.4072e-02 -6.4349e-02  9.9124e-02 -8.4936e-02 -9.5371e-02\n",
       "  3.1133e-02 -4.7698e-02 -4.1914e-02 -9.8762e-02 -4.7578e-02  1.2931e-02\n",
       " \n",
       " Columns 42 to 47 \n",
       " -8.3230e-02 -7.4941e-02 -4.8848e-02  3.5540e-02  1.9490e-02  4.7156e-02\n",
       "  7.6792e-02  5.3319e-02 -9.7983e-02 -1.5736e-02  2.6430e-02  8.3232e-02\n",
       "  1.0772e-01  2.6173e-03 -2.1365e-02 -4.4916e-03 -2.7324e-02 -7.0017e-02\n",
       " -2.5780e-02  1.0175e-01 -1.0919e-02  5.1790e-02  1.0188e-01  1.6891e-02\n",
       " -8.1959e-02  5.6820e-03 -9.6020e-03  3.2411e-02  9.0539e-02 -2.4297e-02\n",
       " -2.6549e-02 -3.9015e-02  6.3328e-02  7.8450e-02  4.0124e-02 -3.2100e-02\n",
       "  8.2333e-02 -9.8072e-02 -1.0047e-01 -8.0981e-03 -6.2989e-02 -8.0392e-02\n",
       " -9.6663e-02  6.1478e-02 -1.0303e-01  4.0410e-02 -1.8969e-02 -9.5106e-02\n",
       " -1.3322e-03  3.8611e-02  9.6770e-02 -2.7374e-02  6.5411e-02 -8.8354e-02\n",
       "  8.9049e-02  1.0448e-01  7.6124e-02 -9.4511e-02 -6.2741e-02 -7.2125e-02\n",
       " \n",
       " Columns 48 to 53 \n",
       " -6.6397e-02  3.9072e-02 -8.6605e-02  4.5053e-02  1.2948e-02 -7.2382e-02\n",
       "  8.5804e-02  6.3353e-02 -6.1315e-02 -8.1034e-02  4.2858e-02  1.2428e-02\n",
       " -3.3865e-02 -2.6614e-02 -2.7094e-02 -9.6683e-02 -7.2828e-02 -1.0686e-01\n",
       " -5.2013e-02 -5.9430e-02  7.9901e-02 -1.3028e-02  2.1723e-02 -6.6424e-02\n",
       " -2.6702e-02  9.5524e-02 -8.1553e-02  5.3093e-02 -3.8618e-02 -7.9939e-02\n",
       " -2.8071e-02  5.6440e-02 -3.5772e-02 -3.4438e-02 -5.3928e-02  2.9308e-02\n",
       " -3.3205e-02  3.6797e-02  3.5794e-02 -4.9596e-02 -9.3077e-02  8.4464e-02\n",
       "  2.7291e-02 -1.4438e-02 -8.9966e-03 -2.9111e-03  8.9747e-02  9.3820e-02\n",
       " -8.6987e-02 -6.6823e-02  1.2034e-02  7.6553e-02 -8.0268e-02  8.1587e-02\n",
       "  7.9712e-02  6.0306e-02 -2.3206e-02  3.4525e-02  6.8455e-02  4.0111e-02\n",
       " \n",
       " Columns 54 to 59 \n",
       " -2.9147e-02  1.7193e-02 -2.5834e-02  1.0260e-01 -9.2470e-02  1.0591e-01\n",
       "  5.3071e-02  4.0330e-02  5.3916e-02 -1.0645e-01  3.1794e-02  3.3128e-02\n",
       "  2.7534e-02 -6.2677e-02  2.4747e-02 -2.9619e-02 -8.5708e-02 -9.7863e-02\n",
       "  4.4954e-02  4.5165e-02  3.4463e-02  3.0963e-02 -7.4569e-02  9.2865e-02\n",
       " -2.0013e-02 -3.7303e-02 -3.2034e-02  7.3542e-02  3.5762e-02 -9.9853e-02\n",
       " -6.3196e-03 -5.3104e-02  6.8284e-02  3.8848e-02  5.3599e-03  7.4025e-02\n",
       "  8.7226e-02 -6.2009e-02 -9.6744e-02  9.7485e-02  6.5363e-02 -5.1090e-02\n",
       "  4.9721e-02  7.4714e-02  7.7528e-02  8.0694e-02  2.4884e-02  4.3856e-02\n",
       " -7.1821e-03 -1.1581e-02  1.1696e-02 -1.4662e-02 -7.1209e-02 -8.2675e-02\n",
       "  4.1935e-03 -5.3371e-02  4.8181e-02 -7.3515e-02 -7.7590e-02 -1.0219e-01\n",
       " \n",
       " Columns 60 to 65 \n",
       "  3.3126e-02  3.4149e-02 -2.0705e-02  1.4707e-02 -1.0284e-01  8.4097e-02\n",
       "  3.8039e-02 -1.2112e-02 -6.3377e-02 -3.6363e-02 -4.4083e-03 -3.9495e-02\n",
       "  6.0711e-02  1.4924e-02  5.7000e-02 -8.6467e-02 -9.9281e-02 -7.8985e-02\n",
       " -8.1019e-02 -1.0519e-02 -1.9624e-02  7.0781e-02 -4.7584e-02  5.4061e-02\n",
       "  3.0813e-02  1.0153e-01  3.6891e-02  1.0967e-02 -8.8006e-02 -1.0159e-01\n",
       " -8.1449e-02 -1.0038e-01 -5.8963e-02 -8.2539e-02  1.0434e-02  8.1171e-02\n",
       "  2.3262e-02 -1.2394e-02 -7.4468e-02  1.0411e-01  8.0671e-03  7.0642e-02\n",
       " -4.1411e-02  3.2357e-02  7.3059e-02 -5.7501e-02 -2.8145e-02 -5.8001e-02\n",
       "  8.0107e-02 -4.5373e-03  4.7910e-02 -6.2565e-02  1.0468e-01  5.3359e-02\n",
       " -2.6313e-02  1.0043e-01 -8.4677e-02 -3.7982e-02  5.6468e-02 -1.7252e-02\n",
       " \n",
       " Columns 66 to 71 \n",
       " -8.1334e-02 -7.7089e-02 -8.5625e-02  6.4851e-02 -8.2445e-02 -1.0445e-01\n",
       " -9.2625e-02  6.8707e-02  2.2815e-02  4.8886e-02  4.6086e-02 -2.0864e-02\n",
       "  1.8838e-02 -9.7565e-02  6.5646e-02  6.9296e-02  6.3285e-02 -8.8375e-02\n",
       "  6.3923e-02  1.0401e-01  3.8760e-02 -9.0416e-02  9.1131e-02 -9.4880e-02\n",
       "  3.4208e-02  9.8415e-02 -3.0354e-02  1.0419e-01 -4.3602e-02 -1.0000e-02\n",
       "  3.8507e-04 -3.4150e-02 -5.0062e-02  7.3227e-02 -3.0984e-02 -5.5525e-02\n",
       "  7.3626e-02  4.0180e-03  8.9708e-02  6.2751e-02  4.1498e-02  1.1639e-03\n",
       "  4.2053e-02 -1.3007e-02 -1.5951e-02  1.3859e-02 -1.0877e-01  3.7429e-02\n",
       "  3.8080e-02  2.0120e-02 -6.4123e-02  3.5551e-02 -6.7340e-02 -5.3399e-02\n",
       " -1.9374e-02  6.3788e-02  3.4515e-02  5.7216e-02  6.2511e-02  9.7785e-02\n",
       " \n",
       " Columns 72 to 77 \n",
       " -9.7437e-02  2.3289e-03  8.6979e-02 -7.1125e-02  1.0784e-01 -5.8946e-02\n",
       "  1.9224e-02  8.7587e-02 -1.9117e-02  1.4913e-02  7.3542e-03  9.7689e-02\n",
       "  9.4176e-03 -7.4823e-02  9.3957e-02 -5.5934e-02 -6.2753e-02 -2.9748e-02\n",
       " -6.3029e-02 -1.0463e-01 -9.2319e-02  4.0389e-02  6.5267e-02  2.7486e-02\n",
       " -2.3561e-02 -1.6503e-02  1.8170e-02 -1.7212e-02  3.9156e-02 -9.0192e-02\n",
       " -7.1167e-02  2.0638e-02 -9.4153e-02 -4.7151e-02  1.7052e-02  4.0463e-03\n",
       "  1.0668e-01 -9.4175e-02  1.0063e-01  5.5175e-02 -1.0747e-03  5.1657e-02\n",
       "  3.8220e-04  9.6136e-02 -2.4585e-02  8.1218e-02 -1.0361e-01  1.7360e-02\n",
       " -1.4907e-02  3.6045e-02  8.0808e-02 -2.8886e-03  1.8214e-03  4.3995e-02\n",
       "  7.3536e-03 -6.4891e-02  3.0974e-02 -7.8834e-02  5.7213e-02 -9.9709e-02\n",
       " \n",
       " Columns 78 to 83 \n",
       " -7.4433e-02  9.8284e-03  4.3274e-02 -1.0656e-02  1.7112e-02 -8.4895e-02\n",
       "  5.9367e-02  6.7242e-02  6.3978e-02 -3.9063e-02 -7.5341e-02 -3.0042e-02\n",
       "  9.6534e-02  1.0678e-01  8.3634e-02  1.2655e-02 -4.5286e-02 -1.0571e-02\n",
       "  8.9760e-02 -1.4489e-02 -6.5103e-02 -4.7139e-02 -7.8827e-02  4.0799e-02\n",
       "  1.8814e-02  1.0536e-01  7.0815e-03  1.0350e-01  4.3267e-02 -9.5437e-03\n",
       " -9.9599e-02  1.4892e-02  1.2123e-02 -4.0396e-02  7.9614e-02 -1.0640e-01\n",
       "  4.2183e-03 -2.1278e-02 -4.0150e-02  1.0334e-01 -7.3524e-02  4.5954e-02\n",
       "  8.8796e-02  5.6295e-02 -8.5615e-02 -4.1853e-02  5.4903e-02 -3.8180e-03\n",
       " -2.0313e-02 -1.0259e-01 -6.6137e-02  5.1553e-02  8.1159e-02  1.8057e-02\n",
       "  5.1291e-02 -8.7848e-03  1.6042e-02 -5.0794e-02  2.5175e-02  3.5958e-02\n",
       " [torch.FloatTensor of size 10x84], Parameter containing:\n",
       " -0.1027\n",
       " -0.0253\n",
       " -0.0526\n",
       "  0.0308\n",
       "  0.1044\n",
       "  0.0667\n",
       " -0.0007\n",
       "  0.0330\n",
       " -0.0115\n",
       " -0.1067\n",
       " [torch.FloatTensor of size 10]]"
      ]
     },
     "execution_count": 29,
     "metadata": {},
     "output_type": "execute_result"
    }
   ],
   "source": [
    "# Learnable parameters of a model\n",
    "params = list(net.parameters())\n",
    "params"
   ]
  },
  {
   "cell_type": "code",
   "execution_count": 30,
   "metadata": {},
   "outputs": [
    {
     "name": "stdout",
     "output_type": "stream",
     "text": [
      "10\n",
      "torch.Size([6, 1, 5, 5])\n",
      "torch.Size([6])\n",
      "torch.Size([16, 6, 5, 5])\n",
      "torch.Size([16])\n",
      "torch.Size([120, 400])\n",
      "torch.Size([120])\n",
      "torch.Size([84, 120])\n",
      "torch.Size([84])\n",
      "torch.Size([10, 84])\n",
      "torch.Size([10])\n"
     ]
    }
   ],
   "source": [
    "print(len(params))\n",
    "for i in range(len(params)):\n",
    "    print(params[i].size())"
   ]
  },
  {
   "cell_type": "code",
   "execution_count": 38,
   "metadata": {},
   "outputs": [
    {
     "name": "stdout",
     "output_type": "stream",
     "text": [
      "Variable containing:\n",
      "-0.1244 -0.0196 -0.0735  0.0766  0.1110  0.0254  0.0182  0.0388 -0.0351 -0.1508\n",
      "[torch.FloatTensor of size 1x10]\n",
      "\n"
     ]
    }
   ],
   "source": [
    "# Forward propagation\n",
    "input_ = Variable(torch.randn(1,1,32,32))\n",
    "output_ = net(input_)\n",
    "print(output_)\n",
    "\n",
    "# Zero the gradient buffers for all parameters\n",
    "net.zero_grad()\n",
    "\n",
    "# Backprop\n",
    "output_.backward(torch.randn(1, 10))"
   ]
  },
  {
   "cell_type": "markdown",
   "metadata": {},
   "source": [
    "### Loss function"
   ]
  },
  {
   "cell_type": "code",
   "execution_count": 51,
   "metadata": {},
   "outputs": [
    {
     "name": "stdout",
     "output_type": "stream",
     "text": [
      "Variable containing:\n",
      " 38.6581\n",
      "[torch.FloatTensor of size 1]\n",
      "\n"
     ]
    }
   ],
   "source": [
    "output_ = net(input_)\n",
    "# A dummy target labels\n",
    "labels = Variable(torch.arange(1,11))\n",
    "criterion = nn.MSELoss()\n",
    "loss = criterion(output_, labels)\n",
    "print(loss)"
   ]
  },
  {
   "cell_type": "markdown",
   "metadata": {},
   "source": [
    "### Backprop"
   ]
  },
  {
   "cell_type": "code",
   "execution_count": 52,
   "metadata": {},
   "outputs": [
    {
     "name": "stdout",
     "output_type": "stream",
     "text": [
      "conv1.bias.grad b/f backprop\n",
      "Variable containing:\n",
      " 0\n",
      " 0\n",
      " 0\n",
      " 0\n",
      " 0\n",
      " 0\n",
      "[torch.FloatTensor of size 6]\n",
      "\n",
      "conv1.bias.grad a/f backprop\n",
      "Variable containing:\n",
      "1.00000e-02 *\n",
      "  5.8810\n",
      " -3.6405\n",
      " -4.7823\n",
      " -0.9056\n",
      " -4.2412\n",
      " -0.4248\n",
      "[torch.FloatTensor of size 6]\n",
      "\n"
     ]
    }
   ],
   "source": [
    "net.zero_grad() # flush the gradient buffers\n",
    "\n",
    "print('conv1.bias.grad b/f backprop')\n",
    "print(net.conv1.bias.grad)\n",
    "\n",
    "loss.backward()\n",
    "\n",
    "print('conv1.bias.grad a/f backprop')\n",
    "print(net.conv1.bias.grad)"
   ]
  },
  {
   "cell_type": "markdown",
   "metadata": {},
   "source": [
    "Update the weights using naive python implementation of SGD\n",
    "\n",
    "```python\n",
    "learning_rate = 0.01\n",
    "for f in net.parameters():\n",
    "    f.data.sub_(f.grad.data * learning_rate)\n",
    "```"
   ]
  },
  {
   "cell_type": "code",
   "execution_count": 53,
   "metadata": {
    "collapsed": true
   },
   "outputs": [],
   "source": [
    "# Update the weights using optim package\n",
    "\n",
    "import torch.optim as optim\n",
    "\n",
    "# create an optimizer\n",
    "learning_rate = 0.01\n",
    "optimizer = optim.SGD(net.parameters(), lr = learning_rate)\n",
    "\n",
    "# In your training loop\n",
    "optimizer.zero_grad() # flush\n",
    "output_ = net(input_)\n",
    "loss = criterion(output_, labels)\n",
    "loss.backward()\n",
    "optimizer.step() # 1-step update"
   ]
  },
  {
   "cell_type": "markdown",
   "metadata": {},
   "source": [
    "# Training an Image Classifier"
   ]
  },
  {
   "cell_type": "markdown",
   "metadata": {},
   "source": [
    "## Contents\n",
    "1. Load and normalizing the CIFAR10 training and test datasets using `torchvision`\n",
    "2. Define a CNN\n",
    "3. Define a loss function\n",
    "4. Train the network on the training data\n",
    "5. Test the network on the test data"
   ]
  },
  {
   "cell_type": "markdown",
   "metadata": {},
   "source": [
    "### 1. Load and normalize CIFAR10"
   ]
  },
  {
   "cell_type": "code",
   "execution_count": 54,
   "metadata": {
    "collapsed": true
   },
   "outputs": [],
   "source": [
    "import torch\n",
    "import torchvision\n",
    "import torchvision.transforms as transforms"
   ]
  },
  {
   "cell_type": "markdown",
   "metadata": {},
   "source": [
    "Download and load the CIFAR10 dataset into the memory.\n",
    "\n",
    "The output of torchvision datasets are PILImage images of range [0, 1].  \n",
    "We transform them to Tensors of normalized range [-1, 1]"
   ]
  },
  {
   "cell_type": "code",
   "execution_count": 56,
   "metadata": {},
   "outputs": [
    {
     "name": "stdout",
     "output_type": "stream",
     "text": [
      "Downloading http://www.cs.toronto.edu/~kriz/cifar-10-python.tar.gz to /home/yhs/data/cifar-10-python.tar.gz\n",
      "Files already downloaded and verified\n"
     ]
    }
   ],
   "source": [
    "transform = transforms.Compose(\n",
    "    [transforms.ToTensor(),\n",
    "     transforms.Normalize((0.5, 0.5, 0.5), (0.5, 0.5, 0.5))])\n",
    "\n",
    "import os\n",
    "data_path = os.path.join(os.path.expanduser('~'),'data')\n",
    "trainset = torchvision.datasets.CIFAR10(root=data_path, train=True,\n",
    "                                        download=True, transform=transform)\n",
    "trainloader = torch.utils.data.DataLoader(trainset, batch_size=4,\n",
    "                                          shuffle=True, num_workers=2)\n",
    "\n",
    "testset = torchvision.datasets.CIFAR10(root=data_path, train=False,\n",
    "                                       download=True, transform=transform)\n",
    "testloader = torch.utils.data.DataLoader(testset, batch_size=4,\n",
    "                                         shuffle=False, num_workers=2)\n",
    "\n",
    "classes = ('plane', 'car', 'bird', 'cat',\n",
    "           'deer', 'dog', 'frog', 'horse', 'ship', 'truck')"
   ]
  },
  {
   "cell_type": "code",
   "execution_count": 58,
   "metadata": {
    "scrolled": true
   },
   "outputs": [
    {
     "name": "stdout",
     "output_type": "stream",
     "text": [
      " ship truck  frog   car\n"
     ]
    },
    {
     "data": {
      "image/png": "[encoded data removed]",
      "text/plain": [
       "<matplotlib.figure.Figure at 0x7f4fe41355f8>"
      ]
     },
     "metadata": {},
     "output_type": "display_data"
    },
    {
     "name": "stderr",
     "output_type": "stream",
     "text": [
      "Traceback (most recent call last):\n",
      "Process Process-4:\n",
      "Process Process-3:\n",
      "Traceback (most recent call last):\n",
      "  File \"/home/yhs/anaconda3/envs/pytorch/lib/python3.6/multiprocessing/process.py\", line 249, in _bootstrap\n",
      "    self.run()\n",
      "  File \"/home/yhs/anaconda3/envs/pytorch/lib/python3.6/multiprocessing/synchronize.py\", line 96, in __enter__\n",
      "    return self._semlock.__enter__()\n",
      "  File \"/home/yhs/anaconda3/envs/pytorch/lib/python3.6/multiprocessing/process.py\", line 93, in run\n",
      "    self._target(*self._args, **self._kwargs)\n",
      "  File \"/home/yhs/anaconda3/envs/pytorch/lib/python3.6/site-packages/torch/utils/data/dataloader.py\", line 34, in _worker_loop\n",
      "    r = index_queue.get()\n",
      "  File \"/home/yhs/anaconda3/envs/pytorch/lib/python3.6/multiprocessing/queues.py\", line 341, in get\n",
      "    with self._rlock:\n",
      "KeyboardInterrupt\n",
      "  File \"/home/yhs/anaconda3/envs/pytorch/lib/python3.6/multiprocessing/process.py\", line 249, in _bootstrap\n",
      "    self.run()\n",
      "  File \"/home/yhs/anaconda3/envs/pytorch/lib/python3.6/multiprocessing/process.py\", line 93, in run\n",
      "    self._target(*self._args, **self._kwargs)\n",
      "  File \"/home/yhs/anaconda3/envs/pytorch/lib/python3.6/site-packages/torch/utils/data/dataloader.py\", line 34, in _worker_loop\n",
      "    r = index_queue.get()\n",
      "  File \"/home/yhs/anaconda3/envs/pytorch/lib/python3.6/multiprocessing/queues.py\", line 342, in get\n",
      "    res = self._reader.recv_bytes()\n",
      "  File \"/home/yhs/anaconda3/envs/pytorch/lib/python3.6/multiprocessing/connection.py\", line 216, in recv_bytes\n",
      "    buf = self._recv_bytes(maxlength)\n",
      "  File \"/home/yhs/anaconda3/envs/pytorch/lib/python3.6/multiprocessing/connection.py\", line 407, in _recv_bytes\n",
      "    buf = self._recv(4)\n",
      "  File \"/home/yhs/anaconda3/envs/pytorch/lib/python3.6/multiprocessing/connection.py\", line 379, in _recv\n",
      "    chunk = read(handle, remaining)\n",
      "KeyboardInterrupt\n"
     ]
    }
   ],
   "source": [
    "import matplotlib.pyplot as plt\n",
    "%matplotlib inline\n",
    "import numpy as np\n",
    "\n",
    "# functions to show an image\n",
    "def imshow(img):\n",
    "    img = img / 2 + 0.5     # unnormalize\n",
    "    npimg = img.numpy()\n",
    "    plt.imshow(np.transpose(npimg, (1, 2, 0)))\n",
    "\n",
    "\n",
    "# get some random training images\n",
    "dataiter = iter(trainloader)\n",
    "images, labels = dataiter.next()\n",
    "\n",
    "# show images\n",
    "imshow(torchvision.utils.make_grid(images))\n",
    "# print labels\n",
    "print(' '.join('%5s' % classes[labels[j]] for j in range(4)))"
   ]
  },
  {
   "cell_type": "markdown",
   "metadata": {},
   "source": [
    "### 2. Define a CNN"
   ]
  },
  {
   "cell_type": "code",
   "execution_count": 64,
   "metadata": {},
   "outputs": [
    {
     "data": {
      "text/plain": [
       "CNN (\n",
       "  (conv1): Conv2d(3, 6, kernel_size=(5, 5), stride=(1, 1))\n",
       "  (pool): MaxPool2d (size=(2, 2), stride=(2, 2), dilation=(1, 1))\n",
       "  (conv2): Conv2d(6, 16, kernel_size=(5, 5), stride=(1, 1))\n",
       "  (fc1): Linear (400 -> 120)\n",
       "  (fc2): Linear (120 -> 84)\n",
       "  (fc3): Linear (84 -> 10)\n",
       ")"
      ]
     },
     "execution_count": 64,
     "metadata": {},
     "output_type": "execute_result"
    }
   ],
   "source": [
    "from torch.autograd import Variable\n",
    "import torch.nn as nn\n",
    "import torch.nn.functional as F\n",
    "\n",
    "class CNN(nn.Module):\n",
    "    \n",
    "    def __init__(self):\n",
    "        super().__init__()\n",
    "        # Takes a 3-channel image(RGB) as an input\n",
    "        self.conv1 = nn.Conv2d(3, 6, 5)\n",
    "        self.pool = nn.MaxPool2d(2, 2)\n",
    "        self.conv2 = nn.Conv2d(6, 16, 5)\n",
    "        self.fc1 = nn.Linear(16*5*5, 120)\n",
    "        self.fc2 = nn.Linear(120, 84)\n",
    "        self.fc3 = nn.Linear(84, 10)\n",
    "    \n",
    "    def forward(self, x):\n",
    "        x = self.pool(F.relu(self.conv1(x)))\n",
    "        x = self.pool(F.relu(self.conv2(x)))\n",
    "        x = x.view(-1, 16*5*5)\n",
    "        x = F.relu(self.fc1(x))\n",
    "        x = F.relu(self.fc2(x))\n",
    "        x = self.fc3(x)\n",
    "        return x\n",
    "    \n",
    "net = CNN()\n",
    "net.cuda() # recursively send the parameters to use the GPU"
   ]
  },
  {
   "cell_type": "markdown",
   "metadata": {},
   "source": [
    "### 3. Define a Loss function and Optimizer"
   ]
  },
  {
   "cell_type": "code",
   "execution_count": 65,
   "metadata": {
    "collapsed": true
   },
   "outputs": [],
   "source": [
    "import torch.optim as optim\n",
    "\n",
    "criterion = nn.CrossEntropyLoss()\n",
    "optimizer = optim.SGD(net.parameters(), lr=0.001, momentum=0.9)"
   ]
  },
  {
   "cell_type": "markdown",
   "metadata": {},
   "source": [
    "### 4. Train the Network"
   ]
  },
  {
   "cell_type": "code",
   "execution_count": 66,
   "metadata": {},
   "outputs": [
    {
     "name": "stdout",
     "output_type": "stream",
     "text": [
      "[1,  2000] loss: 2.224\n",
      "[1,  4000] loss: 1.881\n",
      "[1,  6000] loss: 1.677\n",
      "[1,  8000] loss: 1.582\n",
      "[1, 10000] loss: 1.530\n",
      "[1, 12000] loss: 1.462\n",
      "[2,  2000] loss: 1.399\n",
      "[2,  4000] loss: 1.323\n",
      "[2,  6000] loss: 1.319\n",
      "[2,  8000] loss: 1.300\n",
      "[2, 10000] loss: 1.281\n",
      "[2, 12000] loss: 1.231\n",
      "Finished Training\n"
     ]
    }
   ],
   "source": [
    "for epoch in range(2):  # loop over the dataset multiple times\n",
    "\n",
    "    running_loss = 0.0\n",
    "    for i, data in enumerate(trainloader, 0):\n",
    "        # get the inputs\n",
    "        inputs, labels = data\n",
    "\n",
    "        # wrap them in Variable\n",
    "        inputs, labels = Variable(inputs.cuda()), Variable(labels.cuda())\n",
    "\n",
    "        # zero the parameter gradients\n",
    "        optimizer.zero_grad()\n",
    "\n",
    "        # forward + backward + optimize\n",
    "        outputs = net(inputs)\n",
    "        loss = criterion(outputs, labels)\n",
    "        loss.backward()\n",
    "        optimizer.step()\n",
    "\n",
    "        # print statistics\n",
    "        running_loss += loss.data[0]\n",
    "        if i % 2000 == 1999:    # print every 2000 mini-batches\n",
    "            print('[%d, %5d] loss: %.3f' %\n",
    "                  (epoch + 1, i + 1, running_loss / 2000))\n",
    "            running_loss = 0.0\n",
    "\n",
    "print('Finished Training')"
   ]
  },
  {
   "cell_type": "markdown",
   "metadata": {},
   "source": [
    "### 5. Test the network"
   ]
  },
  {
   "cell_type": "code",
   "execution_count": 69,
   "metadata": {},
   "outputs": [
    {
     "name": "stdout",
     "output_type": "stream",
     "text": [
      "Ground Truth:    cat  ship  ship plane\n",
      "Predicted:    dog   car  ship plane\n"
     ]
    },
    {
     "data": {
      "image/png": "[encoded data removed]",
      "text/plain": [
       "<matplotlib.figure.Figure at 0x7f4fac0b0ba8>"
      ]
     },
     "metadata": {},
     "output_type": "display_data"
    }
   ],
   "source": [
    "# Test the network on a small batch\n",
    "\n",
    "dataiter = iter(testloader)\n",
    "images, labels = dataiter.next()\n",
    "\n",
    "# print images\n",
    "imshow(torchvision.utils.make_grid(images))\n",
    "\n",
    "# Ground Truth\n",
    "print('Ground Truth: ',\n",
    "      ' '.join('%5s' % classes[labels[j]] for j in range(4)))\n",
    "\n",
    "# Predictions from the Network\n",
    "logits = net(Variable(images).cuda())\n",
    "_, predicted = torch.max(logits.data, 1)\n",
    "print('Predicted: ',\n",
    "      ' '.join('%5s' % classes[predicted[j]] for j in range(4)))"
   ]
  },
  {
   "cell_type": "code",
   "execution_count": 76,
   "metadata": {},
   "outputs": [
    {
     "name": "stdout",
     "output_type": "stream",
     "text": [
      "Accuracy of the network on the 10000 test images: 56 %\n"
     ]
    }
   ],
   "source": [
    "# Test the network on the whole dataset\n",
    "correct = 0\n",
    "total = 0\n",
    "for data in testloader:\n",
    "    images, labels = data\n",
    "    logits = net(Variable(images).cuda())\n",
    "    _, predicted = torch.max(logits.data, 1)\n",
    "    total += labels.size(0)\n",
    "    correct += (predicted == labels.cuda()).sum()\n",
    "\n",
    "print('Accuracy of the network on the 10000 test images: %d %%' %\n",
    "      (100 * correct / total))"
   ]
  },
  {
   "cell_type": "code",
   "execution_count": 78,
   "metadata": {},
   "outputs": [
    {
     "name": "stdout",
     "output_type": "stream",
     "text": [
      "Accuracy of plane : 57 %\n",
      "Accuracy of   car : 68 %\n",
      "Accuracy of  bird : 44 %\n",
      "Accuracy of   cat : 30 %\n",
      "Accuracy of  deer : 43 %\n",
      "Accuracy of   dog : 59 %\n",
      "Accuracy of  frog : 59 %\n",
      "Accuracy of horse : 70 %\n",
      "Accuracy of  ship : 63 %\n",
      "Accuracy of truck : 70 %\n"
     ]
    }
   ],
   "source": [
    "# Inspect the accuracy on each labels\n",
    "\n",
    "class_correct = list(0. for i in range(10))\n",
    "class_total = list(0. for i in range(10))\n",
    "for data in testloader:\n",
    "    images, labels = data\n",
    "    outputs = net(Variable(images).cuda())\n",
    "    _, predicted = torch.max(outputs.data, 1)\n",
    "    c = (predicted == labels.cuda()).squeeze()\n",
    "    for i in range(4):\n",
    "        label = labels[i]\n",
    "        class_correct[label] += c[i]\n",
    "        class_total[label] += 1\n",
    "\n",
    "\n",
    "for i in range(10):\n",
    "    print('Accuracy of %5s : %2d %%' % (\n",
    "        classes[i], 100 * class_correct[i] / class_total[i]))"
   ]
  }
 ],
 "metadata": {
  "kernelspec": {
   "display_name": "Python 3",
   "language": "python",
   "name": "python3"
  },
  "language_info": {
   "codemirror_mode": {
    "name": "ipython",
    "version": 3
   },
   "file_extension": ".py",
   "mimetype": "text/x-python",
   "name": "python",
   "nbconvert_exporter": "python",
   "pygments_lexer": "ipython3",
   "version": "3.6.2"
  }
 },
 "nbformat": 4,
 "nbformat_minor": 2
}
